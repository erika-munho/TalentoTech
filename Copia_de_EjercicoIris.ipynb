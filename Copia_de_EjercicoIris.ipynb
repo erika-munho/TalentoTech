{
  "nbformat": 4,
  "nbformat_minor": 0,
  "metadata": {
    "colab": {
      "provenance": [],
      "include_colab_link": true
    },
    "kernelspec": {
      "name": "python3",
      "display_name": "Python 3"
    },
    "language_info": {
      "name": "python"
    }
  },
  "cells": [
    {
      "cell_type": "markdown",
      "metadata": {
        "id": "view-in-github",
        "colab_type": "text"
      },
      "source": [
        "<a href=\"https://colab.research.google.com/github/erika-munho/TalentoTech/blob/main/Copia_de_EjercicoIris.ipynb\" target=\"_parent\"><img src=\"https://colab.research.google.com/assets/colab-badge.svg\" alt=\"Open In Colab\"/></a>"
      ]
    },
    {
      "cell_type": "markdown",
      "source": [
        "# Trabajo en grupo\n",
        "\n",
        " Integrantes:\n",
        "\n",
        "- Lizeth Bustos\n",
        "- Erika Muñoz"
      ],
      "metadata": {
        "id": "hLzPgudKbAcR"
      }
    },
    {
      "cell_type": "code",
      "execution_count": 1,
      "metadata": {
        "id": "PMWMI89sruBv"
      },
      "outputs": [],
      "source": [
        "import pandas as pd\n",
        "import numpy as np\n",
        "import seaborn as sns\n",
        "import matplotlib.pyplot as plt\n",
        "\n",
        "df = sns.load_dataset(\"iris\")"
      ]
    },
    {
      "cell_type": "code",
      "source": [
        "df.describe()"
      ],
      "metadata": {
        "colab": {
          "base_uri": "https://localhost:8080/",
          "height": 300
        },
        "id": "QzGVTXWltEt4",
        "outputId": "071dcb26-daa3-41f1-bc9f-4f6b7478e389"
      },
      "execution_count": 2,
      "outputs": [
        {
          "output_type": "execute_result",
          "data": {
            "text/plain": [
              "       sepal_length  sepal_width  petal_length  petal_width\n",
              "count    150.000000   150.000000    150.000000   150.000000\n",
              "mean       5.843333     3.057333      3.758000     1.199333\n",
              "std        0.828066     0.435866      1.765298     0.762238\n",
              "min        4.300000     2.000000      1.000000     0.100000\n",
              "25%        5.100000     2.800000      1.600000     0.300000\n",
              "50%        5.800000     3.000000      4.350000     1.300000\n",
              "75%        6.400000     3.300000      5.100000     1.800000\n",
              "max        7.900000     4.400000      6.900000     2.500000"
            ],
            "text/html": [
              "\n",
              "  <div id=\"df-81464e58-6aef-49e8-866e-c1e8a599da45\" class=\"colab-df-container\">\n",
              "    <div>\n",
              "<style scoped>\n",
              "    .dataframe tbody tr th:only-of-type {\n",
              "        vertical-align: middle;\n",
              "    }\n",
              "\n",
              "    .dataframe tbody tr th {\n",
              "        vertical-align: top;\n",
              "    }\n",
              "\n",
              "    .dataframe thead th {\n",
              "        text-align: right;\n",
              "    }\n",
              "</style>\n",
              "<table border=\"1\" class=\"dataframe\">\n",
              "  <thead>\n",
              "    <tr style=\"text-align: right;\">\n",
              "      <th></th>\n",
              "      <th>sepal_length</th>\n",
              "      <th>sepal_width</th>\n",
              "      <th>petal_length</th>\n",
              "      <th>petal_width</th>\n",
              "    </tr>\n",
              "  </thead>\n",
              "  <tbody>\n",
              "    <tr>\n",
              "      <th>count</th>\n",
              "      <td>150.000000</td>\n",
              "      <td>150.000000</td>\n",
              "      <td>150.000000</td>\n",
              "      <td>150.000000</td>\n",
              "    </tr>\n",
              "    <tr>\n",
              "      <th>mean</th>\n",
              "      <td>5.843333</td>\n",
              "      <td>3.057333</td>\n",
              "      <td>3.758000</td>\n",
              "      <td>1.199333</td>\n",
              "    </tr>\n",
              "    <tr>\n",
              "      <th>std</th>\n",
              "      <td>0.828066</td>\n",
              "      <td>0.435866</td>\n",
              "      <td>1.765298</td>\n",
              "      <td>0.762238</td>\n",
              "    </tr>\n",
              "    <tr>\n",
              "      <th>min</th>\n",
              "      <td>4.300000</td>\n",
              "      <td>2.000000</td>\n",
              "      <td>1.000000</td>\n",
              "      <td>0.100000</td>\n",
              "    </tr>\n",
              "    <tr>\n",
              "      <th>25%</th>\n",
              "      <td>5.100000</td>\n",
              "      <td>2.800000</td>\n",
              "      <td>1.600000</td>\n",
              "      <td>0.300000</td>\n",
              "    </tr>\n",
              "    <tr>\n",
              "      <th>50%</th>\n",
              "      <td>5.800000</td>\n",
              "      <td>3.000000</td>\n",
              "      <td>4.350000</td>\n",
              "      <td>1.300000</td>\n",
              "    </tr>\n",
              "    <tr>\n",
              "      <th>75%</th>\n",
              "      <td>6.400000</td>\n",
              "      <td>3.300000</td>\n",
              "      <td>5.100000</td>\n",
              "      <td>1.800000</td>\n",
              "    </tr>\n",
              "    <tr>\n",
              "      <th>max</th>\n",
              "      <td>7.900000</td>\n",
              "      <td>4.400000</td>\n",
              "      <td>6.900000</td>\n",
              "      <td>2.500000</td>\n",
              "    </tr>\n",
              "  </tbody>\n",
              "</table>\n",
              "</div>\n",
              "    <div class=\"colab-df-buttons\">\n",
              "\n",
              "  <div class=\"colab-df-container\">\n",
              "    <button class=\"colab-df-convert\" onclick=\"convertToInteractive('df-81464e58-6aef-49e8-866e-c1e8a599da45')\"\n",
              "            title=\"Convert this dataframe to an interactive table.\"\n",
              "            style=\"display:none;\">\n",
              "\n",
              "  <svg xmlns=\"http://www.w3.org/2000/svg\" height=\"24px\" viewBox=\"0 -960 960 960\">\n",
              "    <path d=\"M120-120v-720h720v720H120Zm60-500h600v-160H180v160Zm220 220h160v-160H400v160Zm0 220h160v-160H400v160ZM180-400h160v-160H180v160Zm440 0h160v-160H620v160ZM180-180h160v-160H180v160Zm440 0h160v-160H620v160Z\"/>\n",
              "  </svg>\n",
              "    </button>\n",
              "\n",
              "  <style>\n",
              "    .colab-df-container {\n",
              "      display:flex;\n",
              "      gap: 12px;\n",
              "    }\n",
              "\n",
              "    .colab-df-convert {\n",
              "      background-color: #E8F0FE;\n",
              "      border: none;\n",
              "      border-radius: 50%;\n",
              "      cursor: pointer;\n",
              "      display: none;\n",
              "      fill: #1967D2;\n",
              "      height: 32px;\n",
              "      padding: 0 0 0 0;\n",
              "      width: 32px;\n",
              "    }\n",
              "\n",
              "    .colab-df-convert:hover {\n",
              "      background-color: #E2EBFA;\n",
              "      box-shadow: 0px 1px 2px rgba(60, 64, 67, 0.3), 0px 1px 3px 1px rgba(60, 64, 67, 0.15);\n",
              "      fill: #174EA6;\n",
              "    }\n",
              "\n",
              "    .colab-df-buttons div {\n",
              "      margin-bottom: 4px;\n",
              "    }\n",
              "\n",
              "    [theme=dark] .colab-df-convert {\n",
              "      background-color: #3B4455;\n",
              "      fill: #D2E3FC;\n",
              "    }\n",
              "\n",
              "    [theme=dark] .colab-df-convert:hover {\n",
              "      background-color: #434B5C;\n",
              "      box-shadow: 0px 1px 3px 1px rgba(0, 0, 0, 0.15);\n",
              "      filter: drop-shadow(0px 1px 2px rgba(0, 0, 0, 0.3));\n",
              "      fill: #FFFFFF;\n",
              "    }\n",
              "  </style>\n",
              "\n",
              "    <script>\n",
              "      const buttonEl =\n",
              "        document.querySelector('#df-81464e58-6aef-49e8-866e-c1e8a599da45 button.colab-df-convert');\n",
              "      buttonEl.style.display =\n",
              "        google.colab.kernel.accessAllowed ? 'block' : 'none';\n",
              "\n",
              "      async function convertToInteractive(key) {\n",
              "        const element = document.querySelector('#df-81464e58-6aef-49e8-866e-c1e8a599da45');\n",
              "        const dataTable =\n",
              "          await google.colab.kernel.invokeFunction('convertToInteractive',\n",
              "                                                    [key], {});\n",
              "        if (!dataTable) return;\n",
              "\n",
              "        const docLinkHtml = 'Like what you see? Visit the ' +\n",
              "          '<a target=\"_blank\" href=https://colab.research.google.com/notebooks/data_table.ipynb>data table notebook</a>'\n",
              "          + ' to learn more about interactive tables.';\n",
              "        element.innerHTML = '';\n",
              "        dataTable['output_type'] = 'display_data';\n",
              "        await google.colab.output.renderOutput(dataTable, element);\n",
              "        const docLink = document.createElement('div');\n",
              "        docLink.innerHTML = docLinkHtml;\n",
              "        element.appendChild(docLink);\n",
              "      }\n",
              "    </script>\n",
              "  </div>\n",
              "\n",
              "\n",
              "<div id=\"df-1bf18222-999d-4a90-9b29-f11f15346900\">\n",
              "  <button class=\"colab-df-quickchart\" onclick=\"quickchart('df-1bf18222-999d-4a90-9b29-f11f15346900')\"\n",
              "            title=\"Suggest charts\"\n",
              "            style=\"display:none;\">\n",
              "\n",
              "<svg xmlns=\"http://www.w3.org/2000/svg\" height=\"24px\"viewBox=\"0 0 24 24\"\n",
              "     width=\"24px\">\n",
              "    <g>\n",
              "        <path d=\"M19 3H5c-1.1 0-2 .9-2 2v14c0 1.1.9 2 2 2h14c1.1 0 2-.9 2-2V5c0-1.1-.9-2-2-2zM9 17H7v-7h2v7zm4 0h-2V7h2v10zm4 0h-2v-4h2v4z\"/>\n",
              "    </g>\n",
              "</svg>\n",
              "  </button>\n",
              "\n",
              "<style>\n",
              "  .colab-df-quickchart {\n",
              "      --bg-color: #E8F0FE;\n",
              "      --fill-color: #1967D2;\n",
              "      --hover-bg-color: #E2EBFA;\n",
              "      --hover-fill-color: #174EA6;\n",
              "      --disabled-fill-color: #AAA;\n",
              "      --disabled-bg-color: #DDD;\n",
              "  }\n",
              "\n",
              "  [theme=dark] .colab-df-quickchart {\n",
              "      --bg-color: #3B4455;\n",
              "      --fill-color: #D2E3FC;\n",
              "      --hover-bg-color: #434B5C;\n",
              "      --hover-fill-color: #FFFFFF;\n",
              "      --disabled-bg-color: #3B4455;\n",
              "      --disabled-fill-color: #666;\n",
              "  }\n",
              "\n",
              "  .colab-df-quickchart {\n",
              "    background-color: var(--bg-color);\n",
              "    border: none;\n",
              "    border-radius: 50%;\n",
              "    cursor: pointer;\n",
              "    display: none;\n",
              "    fill: var(--fill-color);\n",
              "    height: 32px;\n",
              "    padding: 0;\n",
              "    width: 32px;\n",
              "  }\n",
              "\n",
              "  .colab-df-quickchart:hover {\n",
              "    background-color: var(--hover-bg-color);\n",
              "    box-shadow: 0 1px 2px rgba(60, 64, 67, 0.3), 0 1px 3px 1px rgba(60, 64, 67, 0.15);\n",
              "    fill: var(--button-hover-fill-color);\n",
              "  }\n",
              "\n",
              "  .colab-df-quickchart-complete:disabled,\n",
              "  .colab-df-quickchart-complete:disabled:hover {\n",
              "    background-color: var(--disabled-bg-color);\n",
              "    fill: var(--disabled-fill-color);\n",
              "    box-shadow: none;\n",
              "  }\n",
              "\n",
              "  .colab-df-spinner {\n",
              "    border: 2px solid var(--fill-color);\n",
              "    border-color: transparent;\n",
              "    border-bottom-color: var(--fill-color);\n",
              "    animation:\n",
              "      spin 1s steps(1) infinite;\n",
              "  }\n",
              "\n",
              "  @keyframes spin {\n",
              "    0% {\n",
              "      border-color: transparent;\n",
              "      border-bottom-color: var(--fill-color);\n",
              "      border-left-color: var(--fill-color);\n",
              "    }\n",
              "    20% {\n",
              "      border-color: transparent;\n",
              "      border-left-color: var(--fill-color);\n",
              "      border-top-color: var(--fill-color);\n",
              "    }\n",
              "    30% {\n",
              "      border-color: transparent;\n",
              "      border-left-color: var(--fill-color);\n",
              "      border-top-color: var(--fill-color);\n",
              "      border-right-color: var(--fill-color);\n",
              "    }\n",
              "    40% {\n",
              "      border-color: transparent;\n",
              "      border-right-color: var(--fill-color);\n",
              "      border-top-color: var(--fill-color);\n",
              "    }\n",
              "    60% {\n",
              "      border-color: transparent;\n",
              "      border-right-color: var(--fill-color);\n",
              "    }\n",
              "    80% {\n",
              "      border-color: transparent;\n",
              "      border-right-color: var(--fill-color);\n",
              "      border-bottom-color: var(--fill-color);\n",
              "    }\n",
              "    90% {\n",
              "      border-color: transparent;\n",
              "      border-bottom-color: var(--fill-color);\n",
              "    }\n",
              "  }\n",
              "</style>\n",
              "\n",
              "  <script>\n",
              "    async function quickchart(key) {\n",
              "      const quickchartButtonEl =\n",
              "        document.querySelector('#' + key + ' button');\n",
              "      quickchartButtonEl.disabled = true;  // To prevent multiple clicks.\n",
              "      quickchartButtonEl.classList.add('colab-df-spinner');\n",
              "      try {\n",
              "        const charts = await google.colab.kernel.invokeFunction(\n",
              "            'suggestCharts', [key], {});\n",
              "      } catch (error) {\n",
              "        console.error('Error during call to suggestCharts:', error);\n",
              "      }\n",
              "      quickchartButtonEl.classList.remove('colab-df-spinner');\n",
              "      quickchartButtonEl.classList.add('colab-df-quickchart-complete');\n",
              "    }\n",
              "    (() => {\n",
              "      let quickchartButtonEl =\n",
              "        document.querySelector('#df-1bf18222-999d-4a90-9b29-f11f15346900 button');\n",
              "      quickchartButtonEl.style.display =\n",
              "        google.colab.kernel.accessAllowed ? 'block' : 'none';\n",
              "    })();\n",
              "  </script>\n",
              "</div>\n",
              "\n",
              "    </div>\n",
              "  </div>\n"
            ],
            "application/vnd.google.colaboratory.intrinsic+json": {
              "type": "dataframe",
              "summary": "{\n  \"name\": \"df\",\n  \"rows\": 8,\n  \"fields\": [\n    {\n      \"column\": \"sepal_length\",\n      \"properties\": {\n        \"dtype\": \"number\",\n        \"std\": 51.24711349471842,\n        \"min\": 0.828066127977863,\n        \"max\": 150.0,\n        \"num_unique_values\": 8,\n        \"samples\": [\n          5.843333333333334,\n          5.8,\n          150.0\n        ],\n        \"semantic_type\": \"\",\n        \"description\": \"\"\n      }\n    },\n    {\n      \"column\": \"sepal_width\",\n      \"properties\": {\n        \"dtype\": \"number\",\n        \"std\": 52.08617800869865,\n        \"min\": 0.4358662849366982,\n        \"max\": 150.0,\n        \"num_unique_values\": 8,\n        \"samples\": [\n          3.0573333333333337,\n          3.0,\n          150.0\n        ],\n        \"semantic_type\": \"\",\n        \"description\": \"\"\n      }\n    },\n    {\n      \"column\": \"petal_length\",\n      \"properties\": {\n        \"dtype\": \"number\",\n        \"std\": 51.83521261418364,\n        \"min\": 1.0,\n        \"max\": 150.0,\n        \"num_unique_values\": 8,\n        \"samples\": [\n          3.7580000000000005,\n          4.35,\n          150.0\n        ],\n        \"semantic_type\": \"\",\n        \"description\": \"\"\n      }\n    },\n    {\n      \"column\": \"petal_width\",\n      \"properties\": {\n        \"dtype\": \"number\",\n        \"std\": 52.63664824261751,\n        \"min\": 0.1,\n        \"max\": 150.0,\n        \"num_unique_values\": 8,\n        \"samples\": [\n          1.1993333333333336,\n          1.3,\n          150.0\n        ],\n        \"semantic_type\": \"\",\n        \"description\": \"\"\n      }\n    }\n  ]\n}"
            }
          },
          "metadata": {},
          "execution_count": 2
        }
      ]
    },
    {
      "cell_type": "code",
      "source": [
        "df.head()"
      ],
      "metadata": {
        "colab": {
          "base_uri": "https://localhost:8080/",
          "height": 206
        },
        "id": "gYK1lkodtTH_",
        "outputId": "5a7eadc2-3b80-477f-ba32-6d3d0eb80847"
      },
      "execution_count": 3,
      "outputs": [
        {
          "output_type": "execute_result",
          "data": {
            "text/plain": [
              "   sepal_length  sepal_width  petal_length  petal_width species\n",
              "0           5.1          3.5           1.4          0.2  setosa\n",
              "1           4.9          3.0           1.4          0.2  setosa\n",
              "2           4.7          3.2           1.3          0.2  setosa\n",
              "3           4.6          3.1           1.5          0.2  setosa\n",
              "4           5.0          3.6           1.4          0.2  setosa"
            ],
            "text/html": [
              "\n",
              "  <div id=\"df-ebbebd2b-cc40-45cf-98f9-a2ff991276d1\" class=\"colab-df-container\">\n",
              "    <div>\n",
              "<style scoped>\n",
              "    .dataframe tbody tr th:only-of-type {\n",
              "        vertical-align: middle;\n",
              "    }\n",
              "\n",
              "    .dataframe tbody tr th {\n",
              "        vertical-align: top;\n",
              "    }\n",
              "\n",
              "    .dataframe thead th {\n",
              "        text-align: right;\n",
              "    }\n",
              "</style>\n",
              "<table border=\"1\" class=\"dataframe\">\n",
              "  <thead>\n",
              "    <tr style=\"text-align: right;\">\n",
              "      <th></th>\n",
              "      <th>sepal_length</th>\n",
              "      <th>sepal_width</th>\n",
              "      <th>petal_length</th>\n",
              "      <th>petal_width</th>\n",
              "      <th>species</th>\n",
              "    </tr>\n",
              "  </thead>\n",
              "  <tbody>\n",
              "    <tr>\n",
              "      <th>0</th>\n",
              "      <td>5.1</td>\n",
              "      <td>3.5</td>\n",
              "      <td>1.4</td>\n",
              "      <td>0.2</td>\n",
              "      <td>setosa</td>\n",
              "    </tr>\n",
              "    <tr>\n",
              "      <th>1</th>\n",
              "      <td>4.9</td>\n",
              "      <td>3.0</td>\n",
              "      <td>1.4</td>\n",
              "      <td>0.2</td>\n",
              "      <td>setosa</td>\n",
              "    </tr>\n",
              "    <tr>\n",
              "      <th>2</th>\n",
              "      <td>4.7</td>\n",
              "      <td>3.2</td>\n",
              "      <td>1.3</td>\n",
              "      <td>0.2</td>\n",
              "      <td>setosa</td>\n",
              "    </tr>\n",
              "    <tr>\n",
              "      <th>3</th>\n",
              "      <td>4.6</td>\n",
              "      <td>3.1</td>\n",
              "      <td>1.5</td>\n",
              "      <td>0.2</td>\n",
              "      <td>setosa</td>\n",
              "    </tr>\n",
              "    <tr>\n",
              "      <th>4</th>\n",
              "      <td>5.0</td>\n",
              "      <td>3.6</td>\n",
              "      <td>1.4</td>\n",
              "      <td>0.2</td>\n",
              "      <td>setosa</td>\n",
              "    </tr>\n",
              "  </tbody>\n",
              "</table>\n",
              "</div>\n",
              "    <div class=\"colab-df-buttons\">\n",
              "\n",
              "  <div class=\"colab-df-container\">\n",
              "    <button class=\"colab-df-convert\" onclick=\"convertToInteractive('df-ebbebd2b-cc40-45cf-98f9-a2ff991276d1')\"\n",
              "            title=\"Convert this dataframe to an interactive table.\"\n",
              "            style=\"display:none;\">\n",
              "\n",
              "  <svg xmlns=\"http://www.w3.org/2000/svg\" height=\"24px\" viewBox=\"0 -960 960 960\">\n",
              "    <path d=\"M120-120v-720h720v720H120Zm60-500h600v-160H180v160Zm220 220h160v-160H400v160Zm0 220h160v-160H400v160ZM180-400h160v-160H180v160Zm440 0h160v-160H620v160ZM180-180h160v-160H180v160Zm440 0h160v-160H620v160Z\"/>\n",
              "  </svg>\n",
              "    </button>\n",
              "\n",
              "  <style>\n",
              "    .colab-df-container {\n",
              "      display:flex;\n",
              "      gap: 12px;\n",
              "    }\n",
              "\n",
              "    .colab-df-convert {\n",
              "      background-color: #E8F0FE;\n",
              "      border: none;\n",
              "      border-radius: 50%;\n",
              "      cursor: pointer;\n",
              "      display: none;\n",
              "      fill: #1967D2;\n",
              "      height: 32px;\n",
              "      padding: 0 0 0 0;\n",
              "      width: 32px;\n",
              "    }\n",
              "\n",
              "    .colab-df-convert:hover {\n",
              "      background-color: #E2EBFA;\n",
              "      box-shadow: 0px 1px 2px rgba(60, 64, 67, 0.3), 0px 1px 3px 1px rgba(60, 64, 67, 0.15);\n",
              "      fill: #174EA6;\n",
              "    }\n",
              "\n",
              "    .colab-df-buttons div {\n",
              "      margin-bottom: 4px;\n",
              "    }\n",
              "\n",
              "    [theme=dark] .colab-df-convert {\n",
              "      background-color: #3B4455;\n",
              "      fill: #D2E3FC;\n",
              "    }\n",
              "\n",
              "    [theme=dark] .colab-df-convert:hover {\n",
              "      background-color: #434B5C;\n",
              "      box-shadow: 0px 1px 3px 1px rgba(0, 0, 0, 0.15);\n",
              "      filter: drop-shadow(0px 1px 2px rgba(0, 0, 0, 0.3));\n",
              "      fill: #FFFFFF;\n",
              "    }\n",
              "  </style>\n",
              "\n",
              "    <script>\n",
              "      const buttonEl =\n",
              "        document.querySelector('#df-ebbebd2b-cc40-45cf-98f9-a2ff991276d1 button.colab-df-convert');\n",
              "      buttonEl.style.display =\n",
              "        google.colab.kernel.accessAllowed ? 'block' : 'none';\n",
              "\n",
              "      async function convertToInteractive(key) {\n",
              "        const element = document.querySelector('#df-ebbebd2b-cc40-45cf-98f9-a2ff991276d1');\n",
              "        const dataTable =\n",
              "          await google.colab.kernel.invokeFunction('convertToInteractive',\n",
              "                                                    [key], {});\n",
              "        if (!dataTable) return;\n",
              "\n",
              "        const docLinkHtml = 'Like what you see? Visit the ' +\n",
              "          '<a target=\"_blank\" href=https://colab.research.google.com/notebooks/data_table.ipynb>data table notebook</a>'\n",
              "          + ' to learn more about interactive tables.';\n",
              "        element.innerHTML = '';\n",
              "        dataTable['output_type'] = 'display_data';\n",
              "        await google.colab.output.renderOutput(dataTable, element);\n",
              "        const docLink = document.createElement('div');\n",
              "        docLink.innerHTML = docLinkHtml;\n",
              "        element.appendChild(docLink);\n",
              "      }\n",
              "    </script>\n",
              "  </div>\n",
              "\n",
              "\n",
              "<div id=\"df-586c5dc8-8051-4726-93f0-e5f7e47f251e\">\n",
              "  <button class=\"colab-df-quickchart\" onclick=\"quickchart('df-586c5dc8-8051-4726-93f0-e5f7e47f251e')\"\n",
              "            title=\"Suggest charts\"\n",
              "            style=\"display:none;\">\n",
              "\n",
              "<svg xmlns=\"http://www.w3.org/2000/svg\" height=\"24px\"viewBox=\"0 0 24 24\"\n",
              "     width=\"24px\">\n",
              "    <g>\n",
              "        <path d=\"M19 3H5c-1.1 0-2 .9-2 2v14c0 1.1.9 2 2 2h14c1.1 0 2-.9 2-2V5c0-1.1-.9-2-2-2zM9 17H7v-7h2v7zm4 0h-2V7h2v10zm4 0h-2v-4h2v4z\"/>\n",
              "    </g>\n",
              "</svg>\n",
              "  </button>\n",
              "\n",
              "<style>\n",
              "  .colab-df-quickchart {\n",
              "      --bg-color: #E8F0FE;\n",
              "      --fill-color: #1967D2;\n",
              "      --hover-bg-color: #E2EBFA;\n",
              "      --hover-fill-color: #174EA6;\n",
              "      --disabled-fill-color: #AAA;\n",
              "      --disabled-bg-color: #DDD;\n",
              "  }\n",
              "\n",
              "  [theme=dark] .colab-df-quickchart {\n",
              "      --bg-color: #3B4455;\n",
              "      --fill-color: #D2E3FC;\n",
              "      --hover-bg-color: #434B5C;\n",
              "      --hover-fill-color: #FFFFFF;\n",
              "      --disabled-bg-color: #3B4455;\n",
              "      --disabled-fill-color: #666;\n",
              "  }\n",
              "\n",
              "  .colab-df-quickchart {\n",
              "    background-color: var(--bg-color);\n",
              "    border: none;\n",
              "    border-radius: 50%;\n",
              "    cursor: pointer;\n",
              "    display: none;\n",
              "    fill: var(--fill-color);\n",
              "    height: 32px;\n",
              "    padding: 0;\n",
              "    width: 32px;\n",
              "  }\n",
              "\n",
              "  .colab-df-quickchart:hover {\n",
              "    background-color: var(--hover-bg-color);\n",
              "    box-shadow: 0 1px 2px rgba(60, 64, 67, 0.3), 0 1px 3px 1px rgba(60, 64, 67, 0.15);\n",
              "    fill: var(--button-hover-fill-color);\n",
              "  }\n",
              "\n",
              "  .colab-df-quickchart-complete:disabled,\n",
              "  .colab-df-quickchart-complete:disabled:hover {\n",
              "    background-color: var(--disabled-bg-color);\n",
              "    fill: var(--disabled-fill-color);\n",
              "    box-shadow: none;\n",
              "  }\n",
              "\n",
              "  .colab-df-spinner {\n",
              "    border: 2px solid var(--fill-color);\n",
              "    border-color: transparent;\n",
              "    border-bottom-color: var(--fill-color);\n",
              "    animation:\n",
              "      spin 1s steps(1) infinite;\n",
              "  }\n",
              "\n",
              "  @keyframes spin {\n",
              "    0% {\n",
              "      border-color: transparent;\n",
              "      border-bottom-color: var(--fill-color);\n",
              "      border-left-color: var(--fill-color);\n",
              "    }\n",
              "    20% {\n",
              "      border-color: transparent;\n",
              "      border-left-color: var(--fill-color);\n",
              "      border-top-color: var(--fill-color);\n",
              "    }\n",
              "    30% {\n",
              "      border-color: transparent;\n",
              "      border-left-color: var(--fill-color);\n",
              "      border-top-color: var(--fill-color);\n",
              "      border-right-color: var(--fill-color);\n",
              "    }\n",
              "    40% {\n",
              "      border-color: transparent;\n",
              "      border-right-color: var(--fill-color);\n",
              "      border-top-color: var(--fill-color);\n",
              "    }\n",
              "    60% {\n",
              "      border-color: transparent;\n",
              "      border-right-color: var(--fill-color);\n",
              "    }\n",
              "    80% {\n",
              "      border-color: transparent;\n",
              "      border-right-color: var(--fill-color);\n",
              "      border-bottom-color: var(--fill-color);\n",
              "    }\n",
              "    90% {\n",
              "      border-color: transparent;\n",
              "      border-bottom-color: var(--fill-color);\n",
              "    }\n",
              "  }\n",
              "</style>\n",
              "\n",
              "  <script>\n",
              "    async function quickchart(key) {\n",
              "      const quickchartButtonEl =\n",
              "        document.querySelector('#' + key + ' button');\n",
              "      quickchartButtonEl.disabled = true;  // To prevent multiple clicks.\n",
              "      quickchartButtonEl.classList.add('colab-df-spinner');\n",
              "      try {\n",
              "        const charts = await google.colab.kernel.invokeFunction(\n",
              "            'suggestCharts', [key], {});\n",
              "      } catch (error) {\n",
              "        console.error('Error during call to suggestCharts:', error);\n",
              "      }\n",
              "      quickchartButtonEl.classList.remove('colab-df-spinner');\n",
              "      quickchartButtonEl.classList.add('colab-df-quickchart-complete');\n",
              "    }\n",
              "    (() => {\n",
              "      let quickchartButtonEl =\n",
              "        document.querySelector('#df-586c5dc8-8051-4726-93f0-e5f7e47f251e button');\n",
              "      quickchartButtonEl.style.display =\n",
              "        google.colab.kernel.accessAllowed ? 'block' : 'none';\n",
              "    })();\n",
              "  </script>\n",
              "</div>\n",
              "\n",
              "    </div>\n",
              "  </div>\n"
            ],
            "application/vnd.google.colaboratory.intrinsic+json": {
              "type": "dataframe",
              "variable_name": "df",
              "summary": "{\n  \"name\": \"df\",\n  \"rows\": 150,\n  \"fields\": [\n    {\n      \"column\": \"sepal_length\",\n      \"properties\": {\n        \"dtype\": \"number\",\n        \"std\": 0.828066127977863,\n        \"min\": 4.3,\n        \"max\": 7.9,\n        \"num_unique_values\": 35,\n        \"samples\": [\n          6.2,\n          4.5,\n          5.6\n        ],\n        \"semantic_type\": \"\",\n        \"description\": \"\"\n      }\n    },\n    {\n      \"column\": \"sepal_width\",\n      \"properties\": {\n        \"dtype\": \"number\",\n        \"std\": 0.4358662849366982,\n        \"min\": 2.0,\n        \"max\": 4.4,\n        \"num_unique_values\": 23,\n        \"samples\": [\n          2.3,\n          4.0,\n          3.5\n        ],\n        \"semantic_type\": \"\",\n        \"description\": \"\"\n      }\n    },\n    {\n      \"column\": \"petal_length\",\n      \"properties\": {\n        \"dtype\": \"number\",\n        \"std\": 1.7652982332594662,\n        \"min\": 1.0,\n        \"max\": 6.9,\n        \"num_unique_values\": 43,\n        \"samples\": [\n          6.7,\n          3.8,\n          3.7\n        ],\n        \"semantic_type\": \"\",\n        \"description\": \"\"\n      }\n    },\n    {\n      \"column\": \"petal_width\",\n      \"properties\": {\n        \"dtype\": \"number\",\n        \"std\": 0.7622376689603465,\n        \"min\": 0.1,\n        \"max\": 2.5,\n        \"num_unique_values\": 22,\n        \"samples\": [\n          0.2,\n          1.2,\n          1.3\n        ],\n        \"semantic_type\": \"\",\n        \"description\": \"\"\n      }\n    },\n    {\n      \"column\": \"species\",\n      \"properties\": {\n        \"dtype\": \"category\",\n        \"num_unique_values\": 3,\n        \"samples\": [\n          \"setosa\",\n          \"versicolor\",\n          \"virginica\"\n        ],\n        \"semantic_type\": \"\",\n        \"description\": \"\"\n      }\n    }\n  ]\n}"
            }
          },
          "metadata": {},
          "execution_count": 3
        }
      ]
    },
    {
      "cell_type": "markdown",
      "source": [
        "**DISTANCIA MANHATTAN**"
      ],
      "metadata": {
        "id": "60DJ_Q2PQYUs"
      }
    },
    {
      "cell_type": "code",
      "source": [
        "# Calcular el promedio de las características de las flores para cada especie\n",
        "promedio_por_especie = df.groupby('species').mean()\n",
        "# Imprimir el promedio por especie\n",
        "print(promedio_por_especie)"
      ],
      "metadata": {
        "colab": {
          "base_uri": "https://localhost:8080/"
        },
        "id": "CmNIM1D7tqM5",
        "outputId": "84445077-ab60-4ac1-eeee-31d4025704ef"
      },
      "execution_count": 4,
      "outputs": [
        {
          "output_type": "stream",
          "name": "stdout",
          "text": [
            "            sepal_length  sepal_width  petal_length  petal_width\n",
            "species                                                         \n",
            "setosa             5.006        3.428         1.462        0.246\n",
            "versicolor         5.936        2.770         4.260        1.326\n",
            "virginica          6.588        2.974         5.552        2.026\n"
          ]
        }
      ]
    },
    {
      "cell_type": "code",
      "source": [
        "medias = promedio_por_especie.mean()\n",
        "print(medias)"
      ],
      "metadata": {
        "colab": {
          "base_uri": "https://localhost:8080/"
        },
        "id": "3YmZ9rC9xq0k",
        "outputId": "72f9cf37-be9a-4314-ab06-d588de83af68"
      },
      "execution_count": 5,
      "outputs": [
        {
          "output_type": "stream",
          "name": "stdout",
          "text": [
            "sepal_length    5.843333\n",
            "sepal_width     3.057333\n",
            "petal_length    3.758000\n",
            "petal_width     1.199333\n",
            "dtype: float64\n"
          ]
        }
      ]
    },
    {
      "cell_type": "code",
      "source": [
        "def manhattan_distance(x1, x2, y1, y2):\n",
        "  return abs(x2 - x1) + abs(y2 - y1)\n",
        "\n",
        "x1, x2 = medias['sepal_length'], medias['sepal_width']\n",
        "y1, y2 = medias['petal_length'], medias['petal_width']\n",
        "print(\"Distancia de Manhattan entre A y B: \", manhattan_distance(x1,x2,y1,y2))"
      ],
      "metadata": {
        "colab": {
          "base_uri": "https://localhost:8080/"
        },
        "id": "i0BbTP_qa0Lg",
        "outputId": "215d095a-aa85-4740-9cbd-c3755102c46f"
      },
      "execution_count": 6,
      "outputs": [
        {
          "output_type": "stream",
          "name": "stdout",
          "text": [
            "Distancia de Manhattan entre A y B:  5.344666666666667\n"
          ]
        }
      ]
    },
    {
      "cell_type": "markdown",
      "source": [
        "**GRÁFICA**"
      ],
      "metadata": {
        "id": "MCNpL9UQRs0j"
      }
    },
    {
      "cell_type": "code",
      "source": [
        "# Coordenadas de los puntos A y B\n",
        "xA = medias['sepal_length']\n",
        "xB = medias['sepal_width']\n",
        "yA = medias['petal_length']\n",
        "yB = medias['petal_width']\n",
        "\n",
        "# Calcular la distancia de Manhattan\n",
        "distancia_manhattan = manhattan_distance(xA, xB, yA, yB)\n",
        "\n",
        "# Crear el gráfico\n",
        "plt.figure(figsize=(6, 6))\n",
        "\n",
        "# Puntos A y B\n",
        "plt.plot([xA, xB], [yA, yA], 'ro')  # Punto A\n",
        "plt.text(xA, yA, 'A', fontsize=12, ha='right')\n",
        "plt.plot([xB, xB], [yA, yB], 'ro')  # Punto B\n",
        "plt.text(xB, yB, 'B', fontsize=12, ha='right')\n",
        "\n",
        "# Línea horizontal\n",
        "plt.plot([xA, xB], [yA, yA], 'k--')\n",
        "\n",
        "# Línea vertical\n",
        "plt.plot([xB, xB], [yA, yB], 'k--')\n",
        "\n",
        "# Texto de la distancia de Manhattan\n",
        "plt.text((xA + xB) / 2, (yA + yB) / 2, f'{distancia_manhattan}', fontsize=12, ha='center')\n",
        "\n",
        "# Configuración del gráfico\n",
        "plt.xlabel('Longitud del sépalo')\n",
        "plt.ylabel('Longitud del pétalo')\n",
        "plt.title('Distancia de Manhattan entre A y B')\n",
        "\n",
        "# Mostrar el gráfico\n",
        "plt.grid(True)\n",
        "plt.show()"
      ],
      "metadata": {
        "colab": {
          "base_uri": "https://localhost:8080/",
          "height": 565
        },
        "id": "N9bAA0ocRoE0",
        "outputId": "1a8583de-5bc0-4e57-d563-283cd93b854f"
      },
      "execution_count": 7,
      "outputs": [
        {
          "output_type": "display_data",
          "data": {
            "text/plain": [
              "<Figure size 600x600 with 1 Axes>"
            ],
            "image/png": "[encoded data removed]"
          },
          "metadata": {}
        }
      ]
    },
    {
      "cell_type": "markdown",
      "source": [
        "1. Distancia Manhattan iris setosa - iris versicolor"
      ],
      "metadata": {
        "id": "QvNVCnkWt5dg"
      }
    },
    {
      "cell_type": "code",
      "source": [
        "def distancia_manhattan (x1,x2,y1,y2):\n",
        "   distancia_manhattan = abs(x2-x1) + abs(y2-y1)\n",
        "   return distancia_manhattan\n",
        "\n",
        "# Valores promedio para Iris setosa e Iris versicolor (longitud del sépalo, ancho del sépalo, longitud del pétalo, ancho del pétalo)\n",
        "iris_setosa = np.array([5.006, 3.428, 1.464, 0.244])\n",
        "iris_versicolor = np.array([5.936, 2.770, 4.260, 1.326])\n",
        "\n",
        "# Cálculo de la distancia de Manhattan\n",
        "manhattan_distance = np.sum(np.abs(iris_setosa - iris_versicolor))\n",
        "\n",
        "print(f\"Distancia de Manhattan entre Iris setosa e Iris versicolor: {manhattan_distance:.3f} cm\")"
      ],
      "metadata": {
        "colab": {
          "base_uri": "https://localhost:8080/"
        },
        "id": "qoJKwl2Zt7LW",
        "outputId": "fd09b5e7-0b53-4f2d-b2f1-62ff985dfd1d"
      },
      "execution_count": 12,
      "outputs": [
        {
          "output_type": "stream",
          "name": "stdout",
          "text": [
            "Distancia de Manhattan entre Iris setosa e Iris versicolor: 5.466 cm\n"
          ]
        }
      ]
    },
    {
      "cell_type": "markdown",
      "source": [
        "2. Distancia Manhattan iris setosa - iris virginica"
      ],
      "metadata": {
        "id": "fgyxKFIUuD1m"
      }
    },
    {
      "cell_type": "code",
      "source": [
        "def distancia_manhattan (x1,x2,y1,y2):\n",
        "   distancia_manhattan = abs(x2-x1) + abs(y2-y1)\n",
        "   return distancia_manhattan\n",
        "\n",
        "# Valores promedio para Iris setosa e Iris virginica (longitud del sépalo, ancho del sépalo, longitud del pétalo, ancho del pétalo)\n",
        "iris_setosa = np.array([5.006, 3.418, 1.464, 0.244])\n",
        "iris_virginica = np.array([6.588, 2.974, 5.552, 2.026])\n",
        "\n",
        "# Cálculo de la distancia de Manhattan\n",
        "manhattan_distance = np.sum(np.abs(iris_setosa - iris_virginica))\n",
        "\n",
        "print(f\"Distancia de Manhattan entre Iris setosa e Iris virginica: {manhattan_distance:.3f} cm\")"
      ],
      "metadata": {
        "colab": {
          "base_uri": "https://localhost:8080/"
        },
        "id": "0sLAAcFFuJuz",
        "outputId": "0cf7df53-1ca5-442a-e6e7-311fd3300da1"
      },
      "execution_count": 13,
      "outputs": [
        {
          "output_type": "stream",
          "name": "stdout",
          "text": [
            "Distancia de Manhattan entre Iris setosa e Iris virginica: 7.896 cm\n"
          ]
        }
      ]
    },
    {
      "cell_type": "markdown",
      "source": [
        "3. Distancia Manhattan iris versicolor - iris virginica"
      ],
      "metadata": {
        "id": "NKfcAJv5ucpm"
      }
    },
    {
      "cell_type": "code",
      "source": [
        "def distancia_manhattan (x1,x2,y1,y2):\n",
        "   distancia_manhattan = abs(x2-x1) + abs(y2-y1)\n",
        "   return distancia_manhattan\n",
        "\n",
        "# Valores promedio para Iris versicolor e Iris virginica (longitud del sépalo, ancho del sépalo, longitud del pétalo, ancho del pétalo)\n",
        "iris_versicolor = np.array([5.936, 2.770, 4.260, 1.326])\n",
        "iris_virginica = np.array([6.588, 2.974, 5.552, 2.026])\n",
        "\n",
        "# Cálculo de la distancia de Manhattan\n",
        "manhattan_distance = np.sum(np.abs(iris_versicolor - iris_virginica))\n",
        "\n",
        "print(f\"Distancia de Manhattan entre Iris versicolor e Iris virginica: {manhattan_distance:.3f} cm\")"
      ],
      "metadata": {
        "colab": {
          "base_uri": "https://localhost:8080/"
        },
        "id": "JOGIx1BGuny_",
        "outputId": "49c5c0c8-8002-433c-82dc-0a9cb2ffcb3a"
      },
      "execution_count": 14,
      "outputs": [
        {
          "output_type": "stream",
          "name": "stdout",
          "text": [
            "Distancia de Manhattan entre Iris versicolor e Iris virginica: 2.848 cm\n"
          ]
        }
      ]
    },
    {
      "cell_type": "markdown",
      "source": [
        "**Grafico de barras con distancia manhattan entre especies iris**"
      ],
      "metadata": {
        "id": "TzTOw1FpscQi"
      }
    },
    {
      "cell_type": "code",
      "source": [
        "# Datos de distancia de Manhattan\n",
        "especies = ['Setosa-Versicolor', 'Setosa-Virginica', 'Versicolor-Virginica']\n",
        "distancias = [5.466, 7.896, 2.848]\n",
        "\n",
        "# Crear un gráfico de barras\n",
        "plt.figure(figsize=(8, 6))\n",
        "plt.bar(especies, distancias, color='skyblue')\n",
        "plt.xlabel('Pares de Especies')\n",
        "plt.ylabel('Distancia de Manhattan (cm)')\n",
        "plt.title('Distancia de Manhattan entre Especies de Iris')\n",
        "plt.ylim(0, 10)  # Ajustar el rango del eje y según tus datos\n",
        "\n",
        "# Mostrar el valor de cada barra\n",
        "for i, distancia in enumerate(distancias):\n",
        "    plt.text(i, distancia + 0.3, f'{distancia:.3f}', ha='center', va='bottom')\n",
        "\n",
        "plt.show()"
      ],
      "metadata": {
        "colab": {
          "base_uri": "https://localhost:8080/",
          "height": 564
        },
        "id": "MBYw9rkQsgwO",
        "outputId": "48d1f07e-d63f-4b1a-fee9-52a05cbcd255"
      },
      "execution_count": 8,
      "outputs": [
        {
          "output_type": "display_data",
          "data": {
            "text/plain": [
              "<Figure size 800x600 with 1 Axes>"
            ],
            "image/png": "[encoded data removed]"
          },
          "metadata": {}
        }
      ]
    },
    {
      "cell_type": "markdown",
      "source": [
        "**DISTANCIA EUCLIDIANA**"
      ],
      "metadata": {
        "id": "8NYByJq7kbG_"
      }
    },
    {
      "cell_type": "markdown",
      "source": [
        "1. Distancia Euclidiana iris setosa - iris versicolor"
      ],
      "metadata": {
        "id": "Kv45q-aWkfkW"
      }
    },
    {
      "cell_type": "code",
      "source": [
        "#distancia_euclidiana = ((x2 -x1)**2 + (y2 -y1)**2)**0.5\n",
        "\n",
        "# Valores promedio para Iris setosa e Iris versicolor (longitud del sépalo, ancho del sépalo, longitud del pétalo, ancho del pétalo)\n",
        "media_setosa = np.array([5.006, 3.428, 1.464, 0.246])\n",
        "media_versicolor = np.array([5.936, 2.770, 4.260, 1.326])\n",
        "\n",
        "# Calcular la diferencia entre las coordenadas\n",
        "diferencia = media_setosa - media_versicolor\n",
        "\n",
        "# Calcular la distancia euclidiana\n",
        "distancia_euclidiana = np.sqrt(np.sum(diferencia**2))\n",
        "\n",
        "print(f\"Distancia euclidiana entre setosa y versicolor: {distancia_euclidiana:.3f} cm\")"
      ],
      "metadata": {
        "colab": {
          "base_uri": "https://localhost:8080/"
        },
        "id": "T3iZlladkmpb",
        "outputId": "879ba9e2-c317-4f70-8853-12cc1aa631e4"
      },
      "execution_count": 9,
      "outputs": [
        {
          "output_type": "stream",
          "name": "stdout",
          "text": [
            "Distancia euclidiana entre setosa y versicolor: 3.207 cm\n"
          ]
        }
      ]
    },
    {
      "cell_type": "markdown",
      "source": [
        "2. Distancia Euclidiana iris setosa - iris virginica"
      ],
      "metadata": {
        "id": "NXRpJuTClZcL"
      }
    },
    {
      "cell_type": "code",
      "source": [
        "#distancia_euclidiana = ((x2 -x1)**2 + (y2 -y1)**2)**0.5\n",
        "\n",
        "# Vectores de características\n",
        "media_setosa = np.array([5.006, 3.428, 1.464, 0.246])\n",
        "media_virginica = np.array([6.588, 2.974, 5.552, 2.026])\n",
        "\n",
        "# Calcular la diferencia entre las coordenadas\n",
        "diferencia = media_setosa - media_virginica\n",
        "\n",
        "# Calcular la distancia euclidiana\n",
        "distancia_euclidiana = np.sqrt(np.sum(diferencia**2))\n",
        "\n",
        "print(f\"Distancia euclidiana entre iris_setosa y media_virginica: {distancia_euclidiana:.3f} cm\")"
      ],
      "metadata": {
        "colab": {
          "base_uri": "https://localhost:8080/"
        },
        "id": "iDPXkE9OlcEm",
        "outputId": "3ca3aac0-4b15-4c0b-9914-0129bf08ac36"
      },
      "execution_count": 10,
      "outputs": [
        {
          "output_type": "stream",
          "name": "stdout",
          "text": [
            "Distancia euclidiana entre iris_setosa y media_virginica: 4.753 cm\n"
          ]
        }
      ]
    },
    {
      "cell_type": "markdown",
      "source": [
        "3. Distancia euclidiana iris versicolor - iris virginica"
      ],
      "metadata": {
        "id": "_mVN6_cqlsfJ"
      }
    },
    {
      "cell_type": "code",
      "source": [
        "#distancia_euclidiana = ((x2 -x1)**2 + (y2 -y1)**2)**0.5\n",
        "\n",
        "# Vectores de medias de las especies\n",
        "media_versicolor = np.array([5.936, 2.770, 4.260, 1.326])\n",
        "media_virginica = np.array([6.588, 2.974, 5.552, 2.026])\n",
        "\n",
        "# Calcular la diferencia entre las coordenadas\n",
        "diferencia = media_versicolor - media_virginica\n",
        "\n",
        "# Calcular la distancia euclidiana\n",
        "distancia_euclidiana = np.sqrt(np.sum(diferencia**2))\n",
        "\n",
        "print(f\"Distancia euclidiana entre versicolor y virginica: {distancia_euclidiana:.3f} cm\")"
      ],
      "metadata": {
        "colab": {
          "base_uri": "https://localhost:8080/"
        },
        "id": "GqtKV-E2lp12",
        "outputId": "520e796b-6f34-42eb-836c-a1b381b8b422"
      },
      "execution_count": 11,
      "outputs": [
        {
          "output_type": "stream",
          "name": "stdout",
          "text": [
            "Distancia euclidiana entre versicolor y virginica: 1.620 cm\n"
          ]
        }
      ]
    },
    {
      "cell_type": "markdown",
      "source": [
        "**Grafico de barras con distancia euclidiana entre especies iris**"
      ],
      "metadata": {
        "id": "btoHJJD4l8Lm"
      }
    },
    {
      "cell_type": "code",
      "source": [
        "import matplotlib.pyplot as plt\n",
        "\n",
        "# Datos de distancia de Euclidiana\n",
        "especies = ['Setosa-Versicolor', 'Setosa-Virginica', 'Versicolor-Virginica']\n",
        "distancias = [3.207, 4.754, 1.620]\n",
        "\n",
        "# Crear un gráfico de barras\n",
        "plt.figure(figsize=(8, 6))\n",
        "plt.bar(especies, distancias, color='skyblue')\n",
        "plt.xlabel('Pares de Especies')\n",
        "plt.ylabel('Distancia Euclidiana (cm)')\n",
        "plt.title('Distancia Euclidiana entre Especies de Iris')\n",
        "plt.ylim(0, 10)  # Ajustar el rango del eje y según tus datos\n",
        "\n",
        "# Mostrar el valor de cada barra\n",
        "for i, distancia in enumerate(distancias):\n",
        "    plt.text(i, distancia + 0.3, f'{distancia:.3f}', ha='center', va='bottom')\n",
        "\n",
        "plt.show()"
      ],
      "metadata": {
        "colab": {
          "base_uri": "https://localhost:8080/",
          "height": 564
        },
        "id": "NMVLK2-WmBXH",
        "outputId": "62d9c5cd-5a84-4886-b733-88d47c75d4b3"
      },
      "execution_count": null,
      "outputs": [
        {
          "output_type": "display_data",
          "data": {
            "text/plain": [
              "<Figure size 800x600 with 1 Axes>"
            ],
            "image/png": "[encoded data removed]"
          },
          "metadata": {}
        }
      ]
    },
    {
      "cell_type": "markdown",
      "source": [
        "Grafico de puntos - Distancia euclidiana"
      ],
      "metadata": {
        "id": "1GWQbG3Qvchh"
      }
    },
    {
      "cell_type": "code",
      "source": [
        "# Coordenadas de los puntos A y B (tomando las medias de las características)\n",
        "xA = np.mean(X[:, 0])  # Sepal length\n",
        "yA = np.mean(X[:, 1])  # Sepal width\n",
        "xB = np.mean(X[:, 2])  # Petal length\n",
        "yB = np.mean(X[:, 3])  # Petal width\n",
        "\n",
        "# Calcular la distancia euclidiana\n",
        "distancia_euclidiana = np.sqrt((xB - xA)**2 + (yB - yA)**2)\n",
        "\n",
        "# Crear el gráfico\n",
        "plt.figure(figsize=(6, 6))\n",
        "\n",
        "# Puntos A y B\n",
        "plt.plot(xA, yA, 'ro')  # Punto A\n",
        "plt.text(xA, yA, 'A', fontsize=12, ha='right')\n",
        "plt.plot(xB, yB, 'ro')  # Punto B\n",
        "plt.text(xB, yB, 'B', fontsize=12, ha='right')\n",
        "\n",
        "# Línea que conecta los puntos A y B\n",
        "plt.plot([xA, xB], [yA, yB], 'k--')\n",
        "\n",
        "# Texto de la distancia euclidiana\n",
        "plt.text((xA + xB) / 2, (yA + yB) / 2, f'{distancia_euclidiana:.2f}', fontsize=12, ha='center')\n",
        "\n",
        "# Configuración del gráfico\n",
        "plt.xlabel('Longitud del sépalo')\n",
        "plt.ylabel('Anchura del sépalo')\n",
        "plt.title('Distancia Euclidiana entre A y B')\n",
        "\n",
        "# Mostrar el gráfico\n",
        "plt.grid(True)\n",
        "plt.show()"
      ],
      "metadata": {
        "colab": {
          "base_uri": "https://localhost:8080/",
          "height": 565
        },
        "id": "HI-arWEOHYxq",
        "outputId": "529c245d-b0dc-4fc9-9814-7d93744cf127"
      },
      "execution_count": null,
      "outputs": [
        {
          "output_type": "display_data",
          "data": {
            "text/plain": [
              "<Figure size 600x600 with 1 Axes>"
            ],
            "image/png": "[encoded data removed]"
          },
          "metadata": {}
        }
      ]
    },
    {
      "cell_type": "markdown",
      "source": [
        "**CONCLUSIONES**\n",
        "\n",
        "• La distancia Manhattan es mayor que la distancia Euclidiana en todos los casos.\n",
        "\n",
        "• De acuerdo a la distancia euclidiana y manhatan Iris setosa está más cerca de Iris versicolor que de Iris virginica.\n",
        "\n",
        "• Iris virginica y Iris versicolor están más cerca entre sí que de Iris setosa, según los datos de distancia euclidiana obtenidos\n",
        "\n",
        "• Las distancias nos ayudan a comprender las diferencias morfológicas de las flores entre las tres especies de Iris.\n",
        "\n",
        "• La distancia Euclidiana es más sensible a las diferencias en todas las dimensiones, mientras que la distancia Manhattan considera solo las diferencias en línea horizontal y vertical\n",
        "\n"
      ],
      "metadata": {
        "id": "hm07zOO9mmTD"
      }
    },
    {
      "cell_type": "markdown",
      "source": [
        "*I. Puede un modelo agrupar datos con base en estas medidas?*\n",
        "\n",
        "Con ayuda de la IA se pueden plantear las siguientes consideraciones:\n",
        "\n",
        "Si se desea agrupar las medias de las características de las flores(como longitud del sépalo, ancho del sépalo, longitud del pétalo y ancho del pétalo), se puede calcular las distancias entre las medias de diferentes grupos de flores (por ejemplo, diferentes especies).\n",
        "\n",
        "La distancia euclidiana es mas recomdable si se busca que las diferencias en todas las dimensiones sean igualmente importantes.\n",
        "\n",
        "Si se prefiere enfocar en las diferencias en cada dimensión por separado (por ejemplo, si una dimensión tiene una escala diferente), la distancia de Manhattan podría ser más apropiada.\n",
        "\n",
        "En resumen, tanto la distancia euclidiana como la de Manhattan pueden ayudar a agrupar datos en función de las medias.\n",
        "\n",
        "\n",
        "\n",
        "*II*. Para responder la pregunta sobre cuántas especies de flores existen en el conjunto de datos si no se proporcionara la especie como un atributo. Podríamos emplear técnicas de agrupamiento (clustering). El objetivo sería agrupar las muestras en grupos que compartan características similares, con la esperanza de que cada grupo represente una especie distinta.\n",
        "\n",
        "Una de las medidas de distancia más comunes utilizadas en técnicas de agrupamiento es la distancia euclidiana. La distancia euclidiana mide la distancia entre dos puntos en un espacio n-dimensional. En el caso de Iris, donde tenemos múltiples características (longitud del sépalo, ancho del sépalo, longitud del pétalo, ancho del pétalo), podemos considerar cada muestra como un punto en un espacio de 4 dimensiones.\n",
        "\n",
        "El algoritmo de agrupamiento más comúnmente utilizado es el algoritmo K-Means. Este algoritmo funciona agrupando los puntos en k grupos, minimizando la suma de las distancias al cuadrado entre cada punto y el centro de su grupo asignado.\n",
        "\n",
        "Entonces, para determinar cuántas especies de flores hay en el conjunto de datos sin tener la etiqueta de especie, podríamos seguir estos pasos:\n",
        "\n",
        "**Preprocesamiento de datos:** Normalizar las características para que todas estén en la misma escala.\n",
        "\n",
        "**Aplicar K-Means:** Ejecutar el algoritmo K-Means con diferentes valores de k (número de grupos) y seleccionar el valor de k que maximice alguna medida de evaluación, como el índice de Silueta.\n",
        "\n",
        "**Análisis de clústeres:** Una vez que se haya seleccionado el valor de k, analizar los grupos resultantes para ver si corresponden a las tres especies de flores conocidas en el conjunto de datos original.\n",
        "\n",
        "**Validación:** Si los clústeres identificados corresponden a las especies conocidas, podemos inferir que hay tres especies. Si no, podríamos necesitar métodos adicionales de validación o considerar otros enfoques de agrupamiento más sofisticados."
      ],
      "metadata": {
        "id": "P5tCGQ1AnTw_"
      }
    }
  ]
}