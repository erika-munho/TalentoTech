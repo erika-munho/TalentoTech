{
  "nbformat": 4,
  "nbformat_minor": 0,
  "metadata": {
    "colab": {
      "provenance": [],
      "authorship_tag": "ABX9TyMHqzakz/vODaOGi7HVJCza",
      "include_colab_link": true
    },
    "kernelspec": {
      "name": "python3",
      "display_name": "Python 3"
    },
    "language_info": {
      "name": "python"
    }
  },
  "cells": [
    {
      "cell_type": "markdown",
      "metadata": {
        "id": "view-in-github",
        "colab_type": "text"
      },
      "source": [
        "<a href=\"https://colab.research.google.com/github/erika-munho/TalentoTech/blob/main/copia_de_medidas_distancia_en_datos.ipynb\" target=\"_parent\"><img src=\"https://colab.research.google.com/assets/colab-badge.svg\" alt=\"Open In Colab\"/></a>"
      ]
    },
    {
      "cell_type": "markdown",
      "source": [
        "# MEDIDAS DE DISTANCIA EN DATOS"
      ],
      "metadata": {
        "id": "LvfN8BymBaYe"
      }
    },
    {
      "cell_type": "markdown",
      "source": [
        "**1 - Distancia Euclidiana**"
      ],
      "metadata": {
        "id": "BafTMiJxbDdL"
      }
    },
    {
      "cell_type": "markdown",
      "source": [
        "Es una medida de la distancia entre dos puntos en un espacio euclidiano, se basa en el teorema de Pitagoras, se calcula como la longitud de la línea recta mas corta que une los dos puntos en el espacio, es la ruta mas directa.\n",
        "- Se puede interpretar como una medida de proximidad entre los dos puntos. Cuanto menor sea la distancia euclidiana entre dos puntos, más cercanos están en el espacio.\n",
        "- En un plano cartesiano, la distancia euclidiana entre dos puntos puede interpretarse visualmente como la longitud de la línea recta que une los dos puntos.\n"
      ],
      "metadata": {
        "id": "UqwY1CVwd63l"
      }
    },
    {
      "cell_type": "code",
      "source": [
        "def get_euclidian_distance (x1,x2,y1,y4):\n",
        "\n",
        "   # function body (code init)\n",
        "   # d is the hypotenuse\n",
        "\n",
        "   #d = ((delta_x)^2 + (delta_Y)^2))^0.5\n",
        "\n",
        "   # Now, let's use python code:\n",
        "\n",
        "   delta_x = x2 -x1\n",
        "   delta_y = y2 -y1\n",
        "\n",
        "   d = ((delta_x)**2 + (delta_y)**2)**0.5\n",
        "\n",
        "   return d\n",
        "\n",
        "   # Another more direct form\n",
        "\n",
        "def get_euclidian_distance (x1,x2,y1,y2):\n",
        "\n",
        "   return ((x2 -x1)**2 + (y2 -y1)**2)**0.5\n",
        "\n",
        "# Ejemplo\n",
        "\n",
        "# Ingreso de las coordenadas de los puntos\n",
        "x1 = float(input(\"Ingrese la coordenada x del primer punto: \"))\n",
        "y1 = float(input(\"Ingrese la coordenada y del primer punto: \"))\n",
        "x2 = float(input(\"Ingrese la coordenada x del segundo punto: \"))\n",
        "y2 = float(input(\"Ingrese la coordenada y del segundo punto: \"))\n",
        "\n",
        "delta_x = x2 -x1\n",
        "delta_y = y2 -y1\n",
        "\n",
        "d = ((delta_x)**2 + (delta_y)**2)**0.5\n",
        "\n",
        "print(\"la distancia euclidiana entre delta_x y delta_y es:\",d)"
      ],
      "metadata": {
        "colab": {
          "base_uri": "https://localhost:8080/"
        },
        "id": "BTrl7yWqbCRa",
        "outputId": "9e0d887f-4246-4ea4-d2aa-082c175032fb"
      },
      "execution_count": null,
      "outputs": [
        {
          "output_type": "stream",
          "name": "stdout",
          "text": [
            "Ingrese la coordenada x del primer punto: 20\n",
            "Ingrese la coordenada y del primer punto: 50\n",
            "Ingrese la coordenada x del segundo punto: 8\n",
            "Ingrese la coordenada y del segundo punto: 30\n",
            "la distancia euclidiana entre delta_x y delta_y es: 23.323807579381203\n"
          ]
        }
      ]
    },
    {
      "cell_type": "markdown",
      "source": [
        "**2 - Distancia Manhatan**"
      ],
      "metadata": {
        "id": "CJbIwkJ-Bhnt"
      }
    },
    {
      "cell_type": "markdown",
      "source": [
        "Se inspira en las ciudades que están construidas por cuadras y para ir de un punto a otro se debe recorrer externamente cada cuadra en lugar de pasar en medio de ellas (lo que se calcularía con la distancia euclidiana). Entre mas se acerca a cero el resultado menor es la distancia entre los puntos"
      ],
      "metadata": {
        "id": "kvKMcX75CAI_"
      }
    },
    {
      "cell_type": "code",
      "execution_count": null,
      "metadata": {
        "colab": {
          "base_uri": "https://localhost:8080/"
        },
        "id": "JMUsTEFQBV4d",
        "outputId": "644ebac6-d2be-4dde-fbac-635336d2fe6d"
      },
      "outputs": [
        {
          "output_type": "stream",
          "name": "stdout",
          "text": [
            "Ingrese la coordenada x del primer punto: 5\n",
            "Ingrese la coordenada y del primer punto: 20\n",
            "Ingrese la coordenada x del segundo punto: 6\n",
            "Ingrese la coordenada y del segundo punto: 21\n",
            "La distancia Manhattan entre los puntos x1,x2,y1,y2 es: 2.0\n"
          ]
        }
      ],
      "source": [
        "def distancia_manhattan (x1,x2,y1,y2):\n",
        "   distancia_manhattan = abs(x2-x1) + abs(y2-y1)\n",
        "   return distancia_manhattan\n",
        "\n",
        "# Ingreso de las coordenadas de los puntos\n",
        "x1 = float(input(\"Ingrese la coordenada x del primer punto: \"))\n",
        "y1 = float(input(\"Ingrese la coordenada y del primer punto: \"))\n",
        "x2 = float(input(\"Ingrese la coordenada x del segundo punto: \"))\n",
        "y2 = float(input(\"Ingrese la coordenada y del segundo punto: \"))\n",
        "\n",
        "# Calculo de la distancia Manhattan usando la función\n",
        "d = abs(x2-x1) + abs(y2-y1)\n",
        "\n",
        "# d = distancia_manhattan(x1,x2,y1,y2)\n",
        "\n",
        "print(f\"La distancia Manhattan entre los puntos x1,x2,y1,y2 es: {d}\")"
      ]
    },
    {
      "cell_type": "markdown",
      "source": [
        "**3 - Distancia Hamming**"
      ],
      "metadata": {
        "id": "EYOIPQqlo4Vw"
      }
    },
    {
      "cell_type": "markdown",
      "source": [
        "Calcula la diferencia entre dos secuencias de\n",
        "igual longitud. Cuenta el número de posiciones en las cuales los símbolos correspondientes son diferentes.Para las secuencias xi y yi devuelve cero si son iguales en ese punto o devuelve un uno si son diferentes las secuencias en el punto i, por tanto entre mas proximo a cero el resultado menor distancia entre secuencias o mayor similitud entre ellas"
      ],
      "metadata": {
        "id": "rK_DrLDECgRK"
      }
    },
    {
      "cell_type": "code",
      "source": [
        "def hamming_distance(s1, s2):\n",
        "    # Asegurarse de que las cadenas tengan la misma longitud\n",
        "    if len(s1) != len(s2):\n",
        "        raise ValueError(\"Las cadenas deben tener la misma longitud\")\n",
        "\n",
        "    # Inicializar la distancia\n",
        "    distance = sum(1 for c1, c2 in zip(s1, s2) if c1 != c2)\n",
        "\n",
        "    # c1 y c2: se utilizan para referirse a los caracteres individuales, en las mismas posiciones dentro de cada tupla generada por zip(s1, s2)\n",
        "\n",
        "    return distance\n",
        "\n",
        "# Ingresar las cadenas de texto\n",
        "s1 = input(\"Ingrese la primera cadena de texto: \")\n",
        "s2 = input(\"Ingrese la segunda cadena de texto: \")\n",
        "\n",
        "if len(s1) != len(s2):\n",
        "        raise ValueError(\"Las cadenas deben tener la misma longitud\")\n",
        "\n",
        "# Calcular la distancia usando la fórmula\n",
        "distance = sum(1 for c1, c2 in zip(s1, s2) if c1 != c2)\n",
        "#distance = hamming_distance(s1, s2)\n",
        "\n",
        "# Imprimir el resultado\n",
        "print(\"La distancia entre las cadenas '{}' y '{}' es: {}\".format(s1, s2, distance))"
      ],
      "metadata": {
        "colab": {
          "base_uri": "https://localhost:8080/"
        },
        "id": "MLnPCIgqwC5W",
        "outputId": "dfa37c57-a92d-44cb-cd8f-f18e2f075cbc"
      },
      "execution_count": null,
      "outputs": [
        {
          "output_type": "stream",
          "name": "stdout",
          "text": [
            "Ingrese la primera cadena de texto: 100111\n",
            "Ingrese la segunda cadena de texto: 011001\n",
            "La distancia entre las cadenas '100111' y '011001' es: 5\n"
          ]
        }
      ]
    },
    {
      "cell_type": "markdown",
      "source": [
        "**4 - Distancia Chebyshev**"
      ],
      "metadata": {
        "id": "IjKR9ptw22qa"
      }
    },
    {
      "cell_type": "markdown",
      "source": [
        "Se define como la mayor diferencia (max) entre las coordenadas de los puntos. Esto significa que la distancia de Chebyshev es la distancia máxima que un punto debe moverse a lo largo de cualquiera de los ejes para alcanzar el otro punto."
      ],
      "metadata": {
        "id": "Vf3P1JgdDFGT"
      }
    },
    {
      "cell_type": "code",
      "source": [
        "def chebyshev_distance(x1, y1, x2, y2):\n",
        "\n",
        "    # Calcular la diferencia absoluta en las coordenadas x e y\n",
        "    diff_x = abs(x2 - x1)\n",
        "    diff_y = abs(y2 - y1)\n",
        "\n",
        "    # Calcular la distancia de Chebyshev como el máximo de las diferencias\n",
        "    distance = max(diff_x, diff_y)\n",
        "\n",
        "    return distance\n",
        "\n",
        "# Ingresar las coordenadas del primer punto\n",
        "x1 = float(input(\"Ingrese la coordenada x del primer punto: \"))\n",
        "y1 = float(input(\"Ingrese la coordenada y del primer punto: \"))\n",
        "\n",
        "# Ingresar las coordenadas del segundo punto\n",
        "x2 = float(input(\"Ingrese la coordenada x del segundo punto: \"))\n",
        "y2 = float(input(\"Ingrese la coordenada y del segundo punto: \"))\n",
        "\n",
        "# Calcular la diferencia absoluta en las coordenadas x e y\n",
        "diff_x = abs(x2 - x1)\n",
        "diff_y = abs(y2 - y1)\n",
        "\n",
        "# Calcular la distancia de Chebyshev como el máximo de las diferencias\n",
        "distancia = max(diff_x, diff_y)\n",
        "\n",
        "# distancia = chebyshev_distance(x1, y1, x2, y2)\n",
        "\n",
        "# Imprimir el resultado\n",
        "print(\"La distancia de Chebyshev entre los puntos ({}, {}) y ({}, {}) es {}\".format(x1, y1, x2, y2, distancia))"
      ],
      "metadata": {
        "colab": {
          "base_uri": "https://localhost:8080/"
        },
        "id": "jvFmOPuJ3bz8",
        "outputId": "4d827165-aacc-400c-fde9-f31c61ed4ff9"
      },
      "execution_count": null,
      "outputs": [
        {
          "output_type": "stream",
          "name": "stdout",
          "text": [
            "Ingrese la coordenada x del primer punto: 20\n",
            "Ingrese la coordenada y del primer punto: 5\n",
            "Ingrese la coordenada x del segundo punto: 6\n",
            "Ingrese la coordenada y del segundo punto: 10\n",
            "La distancia de Chebyshev entre los puntos (20.0, 5.0) y (6.0, 10.0) es 14.0\n"
          ]
        }
      ]
    },
    {
      "cell_type": "markdown",
      "source": [
        "**5 - Distancia de Camberra**"
      ],
      "metadata": {
        "id": "B_X0Vssc6l2s"
      }
    },
    {
      "cell_type": "markdown",
      "source": [
        "Medida ponderada que se emplea en análisis multivariado. Permite estimar diferencias cuando las variables tienen diferentes escalas. El resultado entre mas cercano a cero, menor la diferencia entre las variables"
      ],
      "metadata": {
        "id": "qinVJbLtDLNl"
      }
    },
    {
      "cell_type": "code",
      "source": [
        "def canberra_distance(x, y):\n",
        "    # Asegurarse de que los vectores tengan la misma longitud\n",
        "    if len(x) != len(y):\n",
        "        raise ValueError(\"Los vectores deben tener la misma longitud\")\n",
        "\n",
        "    # Inicializar la distancia de Canberra\n",
        "    distancia = 0\n",
        "\n",
        "    # Calcular la distancia de Canberra\n",
        "    for i in range(len(x)):\n",
        "        distancia += abs(x[i] - y[i]) / (abs(x[i]) + abs(y[i]))\n",
        "\n",
        "    return distancia\n",
        "\n",
        "# Ejemplo\n",
        "x = [10,20,100]\n",
        "y = [10,20,100]\n",
        "\n",
        "if len(x) != len(y):\n",
        "        raise ValueError(\"Los vectores deben tener la misma longitud\")\n",
        "\n",
        "distancia = 0\n",
        "\n",
        "for i in range(len(x)):\n",
        "    distancia += abs(x[i] - y[i]) / (abs(x[i]) + abs(y[i]))\n",
        "\n",
        "# distancia = canberra_distance(x, y)\n",
        "\n",
        "\n",
        "print(\"La distancia de Canberra entre los vectores\", x, \"y\", y, \"es\", distancia)"
      ],
      "metadata": {
        "colab": {
          "base_uri": "https://localhost:8080/"
        },
        "id": "cc7ixrJQ7Glp",
        "outputId": "9d71bfde-11cd-4134-d86a-1110035e7e29"
      },
      "execution_count": null,
      "outputs": [
        {
          "output_type": "stream",
          "name": "stdout",
          "text": [
            "La distancia de Canberra entre los vectores [10, 20, 100] y [10, 20, 100] es 0.0\n"
          ]
        }
      ]
    },
    {
      "cell_type": "markdown",
      "source": [
        "**6 - Distancia Coseno**"
      ],
      "metadata": {
        "id": "gAMX2gcKYdZk"
      }
    },
    {
      "cell_type": "markdown",
      "source": [
        "Mide el coseno del ángulo entre dos vectores en un espacio multidimensional.\n",
        "-  Una distancia del coseno igual a 1 o cercana a 1 indica que los vectores tienen direcciones muy similares o son colineales en el espacio vectorial.\n",
        "- Si la distancia del coseno es exactamente cero, los vectores son ortogonales, lo que significa que forman un ángulo de 90 grados entre sí. En otras palabras, no tienen ninguna dirección en común y son completamente independientes en el espacio vectorial.\n",
        "- Si la distancia del coseno es cercana a cero pero no exactamente cero, los vectores tienen direcciones muy diferentes y están casi perpendiculares entre sí (Vectores con direcciones muy diferentes)\n",
        "- En aplicaciones de aprendizaje automático y recuperación de información, una distancia del coseno cercana a cero entre dos vectores puede indicar una baja similitud o correlación entre ellos, es decir, que son muy diferentes o independientes en el espacio vectorial\n"
      ],
      "metadata": {
        "id": "JS41wSHeKBg1"
      }
    },
    {
      "cell_type": "code",
      "source": [
        "import numpy as np\n",
        "\n",
        "\n",
        "def coseno_distance(a, b):\n",
        "    # Calcular el producto punto entre los vectores a y b\n",
        "    producto_punto = np.dot(a, b)\n",
        "\n",
        "    # Calcular las normas euclidianas de los vectores a y b\n",
        "    norma_a = np.linalg.norm(a)\n",
        "    norma_b = np.linalg.norm(b)\n",
        "\n",
        "    # Calcular la distancia del coseno\n",
        "    distancia_coseno = producto_punto / (norma_a * norma_b)\n",
        "\n",
        "    return distancia_coseno\n",
        "\n",
        "# Ejemplo\n",
        "a = [2,5,6]\n",
        "b = [-2,-4,4]\n",
        "\n",
        "producto_punto = np.dot(a, b)\n",
        "\n",
        "norma_a = np.linalg.norm(a)\n",
        "norma_b = np.linalg.norm(b)\n",
        "\n",
        "distancia_coseno = producto_punto / (norma_a * norma_b)\n",
        "\n",
        "#distancia = coseno_distance(a, b)\n",
        "\n",
        "print(\"La distancia del coseno entre los vectores\", a, \"y\", b, \"es\", distancia_coseno)"
      ],
      "metadata": {
        "colab": {
          "base_uri": "https://localhost:8080/"
        },
        "id": "piaqReHLIJ11",
        "outputId": "5483c746-4284-483f-f851-725af69f9764"
      },
      "execution_count": null,
      "outputs": [
        {
          "output_type": "stream",
          "name": "stdout",
          "text": [
            "La distancia del coseno entre los vectores [2, 5, 6] y [-2, -4, 4] es 0.0\n"
          ]
        }
      ]
    },
    {
      "cell_type": "markdown",
      "source": [
        "**7 - Distancia de Jaccard**"
      ],
      "metadata": {
        "id": "z-7I8OCYXUBb"
      }
    },
    {
      "cell_type": "markdown",
      "source": [
        "Se emplea para medir qué tan similares son dos conjuntos,\n",
        "generalmente binarios. Es la relación entre el número de\n",
        "elementos comunes entre dos conjuntos y el número total de\n",
        "elementos en los conjuntos. Si la distancia es cero 0, los conjuntos son iguales y si la distancia es 1, es porque los conjunto son totalmente dismintos"
      ],
      "metadata": {
        "id": "BNzfFdPEYxPB"
      }
    },
    {
      "cell_type": "code",
      "source": [
        "def jaccard_distance(A, B):\n",
        "    # Calcular el tamaño de la intersección de los conjuntos\n",
        "    intersection_size = len(A.intersection(B))\n",
        "\n",
        "    # Calcular el tamaño de la unión de los conjuntos\n",
        "    union_size = len(A.union(B))\n",
        "\n",
        "    # Calcular la distancia de Jaccard\n",
        "    jaccard_distance = 1 - (intersection_size / union_size)\n",
        "\n",
        "    return jaccard_distance\n",
        "\n",
        "# Ejemplo de uso\n",
        "conjuntoA = {1, 2, 3}\n",
        "conjuntoB = {7, 8, 9}\n",
        "\n",
        "intersection_size = len(conjuntoA.intersection(conjuntoB))\n",
        "union_size = len(conjuntoA.union(conjuntoB))\n",
        "\n",
        "jaccard_distance = 1 - (intersection_size / union_size)\n",
        "\n",
        "# distancia = jaccard_distance(conjunto1, conjunto2)\n",
        "\n",
        "print(\"La distancia de Jaccard entre los conjuntos\", conjuntoA, \"y\", conjuntoB, \"es:\", jaccard_distance)"
      ],
      "metadata": {
        "colab": {
          "base_uri": "https://localhost:8080/"
        },
        "id": "YlBx2dZwYpoB",
        "outputId": "5a875918-549a-4322-c9dd-276ae2e2f37a"
      },
      "execution_count": null,
      "outputs": [
        {
          "output_type": "stream",
          "name": "stdout",
          "text": [
            "La distancia de Jaccard entre los conjuntos {1, 2, 3} y {8, 9, 7} es: 1.0\n"
          ]
        }
      ]
    }
  ]
}