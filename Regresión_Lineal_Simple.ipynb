{
  "nbformat": 4,
  "nbformat_minor": 0,
  "metadata": {
    "colab": {
      "provenance": [],
      "authorship_tag": "ABX9TyMI3uymuRBTrlCRaXLg6hou",
      "include_colab_link": true
    },
    "kernelspec": {
      "name": "python3",
      "display_name": "Python 3"
    },
    "language_info": {
      "name": "python"
    }
  },
  "cells": [
    {
      "cell_type": "markdown",
      "metadata": {
        "id": "view-in-github",
        "colab_type": "text"
      },
      "source": [
        "<a href=\"https://colab.research.google.com/github/erika-munho/TalentoTech/blob/main/Regresi%C3%B3n_Lineal_Simple.ipynb\" target=\"_parent\"><img src=\"https://colab.research.google.com/assets/colab-badge.svg\" alt=\"Open In Colab\"/></a>"
      ]
    },
    {
      "cell_type": "markdown",
      "source": [
        "## Regresion Lineal Simple - Ejemplo practico clase 11 de Abril de 2024"
      ],
      "metadata": {
        "id": "bQSfv-wKWJBQ"
      }
    },
    {
      "cell_type": "code",
      "execution_count": null,
      "metadata": {
        "colab": {
          "base_uri": "https://localhost:8080/",
          "height": 474
        },
        "id": "rt55sFATV4tr",
        "outputId": "ddbd7dce-6538-44de-9b56-a7c2359ae7ae"
      },
      "outputs": [
        {
          "output_type": "stream",
          "name": "stdout",
          "text": [
            "{'Var_x': [1, 2, 2, 3, 4, 4, 5, 6], 'Var_y': [2, 3, 4, 4, 4, 6, 5, 7]}\n",
            "   Var_x  Var_y\n",
            "0      1      2\n",
            "1      2      3\n",
            "2      2      4\n",
            "3      3      4\n",
            "4      4      4\n",
            "5      4      6\n",
            "6      5      5\n",
            "7      6      7\n"
          ]
        },
        {
          "output_type": "execute_result",
          "data": {
            "text/plain": [
              "   Var_x  Var_y\n",
              "0      1      2\n",
              "1      2      3\n",
              "2      2      4\n",
              "3      3      4\n",
              "4      4      4\n",
              "5      4      6\n",
              "6      5      5\n",
              "7      6      7"
            ],
            "text/html": [
              "\n",
              "  <div id=\"df-ee4bf178-1c93-4abf-a159-1a6ffcb0d0f5\" class=\"colab-df-container\">\n",
              "    <div>\n",
              "<style scoped>\n",
              "    .dataframe tbody tr th:only-of-type {\n",
              "        vertical-align: middle;\n",
              "    }\n",
              "\n",
              "    .dataframe tbody tr th {\n",
              "        vertical-align: top;\n",
              "    }\n",
              "\n",
              "    .dataframe thead th {\n",
              "        text-align: right;\n",
              "    }\n",
              "</style>\n",
              "<table border=\"1\" class=\"dataframe\">\n",
              "  <thead>\n",
              "    <tr style=\"text-align: right;\">\n",
              "      <th></th>\n",
              "      <th>Var_x</th>\n",
              "      <th>Var_y</th>\n",
              "    </tr>\n",
              "  </thead>\n",
              "  <tbody>\n",
              "    <tr>\n",
              "      <th>0</th>\n",
              "      <td>1</td>\n",
              "      <td>2</td>\n",
              "    </tr>\n",
              "    <tr>\n",
              "      <th>1</th>\n",
              "      <td>2</td>\n",
              "      <td>3</td>\n",
              "    </tr>\n",
              "    <tr>\n",
              "      <th>2</th>\n",
              "      <td>2</td>\n",
              "      <td>4</td>\n",
              "    </tr>\n",
              "    <tr>\n",
              "      <th>3</th>\n",
              "      <td>3</td>\n",
              "      <td>4</td>\n",
              "    </tr>\n",
              "    <tr>\n",
              "      <th>4</th>\n",
              "      <td>4</td>\n",
              "      <td>4</td>\n",
              "    </tr>\n",
              "    <tr>\n",
              "      <th>5</th>\n",
              "      <td>4</td>\n",
              "      <td>6</td>\n",
              "    </tr>\n",
              "    <tr>\n",
              "      <th>6</th>\n",
              "      <td>5</td>\n",
              "      <td>5</td>\n",
              "    </tr>\n",
              "    <tr>\n",
              "      <th>7</th>\n",
              "      <td>6</td>\n",
              "      <td>7</td>\n",
              "    </tr>\n",
              "  </tbody>\n",
              "</table>\n",
              "</div>\n",
              "    <div class=\"colab-df-buttons\">\n",
              "\n",
              "  <div class=\"colab-df-container\">\n",
              "    <button class=\"colab-df-convert\" onclick=\"convertToInteractive('df-ee4bf178-1c93-4abf-a159-1a6ffcb0d0f5')\"\n",
              "            title=\"Convert this dataframe to an interactive table.\"\n",
              "            style=\"display:none;\">\n",
              "\n",
              "  <svg xmlns=\"http://www.w3.org/2000/svg\" height=\"24px\" viewBox=\"0 -960 960 960\">\n",
              "    <path d=\"M120-120v-720h720v720H120Zm60-500h600v-160H180v160Zm220 220h160v-160H400v160Zm0 220h160v-160H400v160ZM180-400h160v-160H180v160Zm440 0h160v-160H620v160ZM180-180h160v-160H180v160Zm440 0h160v-160H620v160Z\"/>\n",
              "  </svg>\n",
              "    </button>\n",
              "\n",
              "  <style>\n",
              "    .colab-df-container {\n",
              "      display:flex;\n",
              "      gap: 12px;\n",
              "    }\n",
              "\n",
              "    .colab-df-convert {\n",
              "      background-color: #E8F0FE;\n",
              "      border: none;\n",
              "      border-radius: 50%;\n",
              "      cursor: pointer;\n",
              "      display: none;\n",
              "      fill: #1967D2;\n",
              "      height: 32px;\n",
              "      padding: 0 0 0 0;\n",
              "      width: 32px;\n",
              "    }\n",
              "\n",
              "    .colab-df-convert:hover {\n",
              "      background-color: #E2EBFA;\n",
              "      box-shadow: 0px 1px 2px rgba(60, 64, 67, 0.3), 0px 1px 3px 1px rgba(60, 64, 67, 0.15);\n",
              "      fill: #174EA6;\n",
              "    }\n",
              "\n",
              "    .colab-df-buttons div {\n",
              "      margin-bottom: 4px;\n",
              "    }\n",
              "\n",
              "    [theme=dark] .colab-df-convert {\n",
              "      background-color: #3B4455;\n",
              "      fill: #D2E3FC;\n",
              "    }\n",
              "\n",
              "    [theme=dark] .colab-df-convert:hover {\n",
              "      background-color: #434B5C;\n",
              "      box-shadow: 0px 1px 3px 1px rgba(0, 0, 0, 0.15);\n",
              "      filter: drop-shadow(0px 1px 2px rgba(0, 0, 0, 0.3));\n",
              "      fill: #FFFFFF;\n",
              "    }\n",
              "  </style>\n",
              "\n",
              "    <script>\n",
              "      const buttonEl =\n",
              "        document.querySelector('#df-ee4bf178-1c93-4abf-a159-1a6ffcb0d0f5 button.colab-df-convert');\n",
              "      buttonEl.style.display =\n",
              "        google.colab.kernel.accessAllowed ? 'block' : 'none';\n",
              "\n",
              "      async function convertToInteractive(key) {\n",
              "        const element = document.querySelector('#df-ee4bf178-1c93-4abf-a159-1a6ffcb0d0f5');\n",
              "        const dataTable =\n",
              "          await google.colab.kernel.invokeFunction('convertToInteractive',\n",
              "                                                    [key], {});\n",
              "        if (!dataTable) return;\n",
              "\n",
              "        const docLinkHtml = 'Like what you see? Visit the ' +\n",
              "          '<a target=\"_blank\" href=https://colab.research.google.com/notebooks/data_table.ipynb>data table notebook</a>'\n",
              "          + ' to learn more about interactive tables.';\n",
              "        element.innerHTML = '';\n",
              "        dataTable['output_type'] = 'display_data';\n",
              "        await google.colab.output.renderOutput(dataTable, element);\n",
              "        const docLink = document.createElement('div');\n",
              "        docLink.innerHTML = docLinkHtml;\n",
              "        element.appendChild(docLink);\n",
              "      }\n",
              "    </script>\n",
              "  </div>\n",
              "\n",
              "\n",
              "<div id=\"df-a5768f6e-68d9-47a6-88bf-ef42fe767121\">\n",
              "  <button class=\"colab-df-quickchart\" onclick=\"quickchart('df-a5768f6e-68d9-47a6-88bf-ef42fe767121')\"\n",
              "            title=\"Suggest charts\"\n",
              "            style=\"display:none;\">\n",
              "\n",
              "<svg xmlns=\"http://www.w3.org/2000/svg\" height=\"24px\"viewBox=\"0 0 24 24\"\n",
              "     width=\"24px\">\n",
              "    <g>\n",
              "        <path d=\"M19 3H5c-1.1 0-2 .9-2 2v14c0 1.1.9 2 2 2h14c1.1 0 2-.9 2-2V5c0-1.1-.9-2-2-2zM9 17H7v-7h2v7zm4 0h-2V7h2v10zm4 0h-2v-4h2v4z\"/>\n",
              "    </g>\n",
              "</svg>\n",
              "  </button>\n",
              "\n",
              "<style>\n",
              "  .colab-df-quickchart {\n",
              "      --bg-color: #E8F0FE;\n",
              "      --fill-color: #1967D2;\n",
              "      --hover-bg-color: #E2EBFA;\n",
              "      --hover-fill-color: #174EA6;\n",
              "      --disabled-fill-color: #AAA;\n",
              "      --disabled-bg-color: #DDD;\n",
              "  }\n",
              "\n",
              "  [theme=dark] .colab-df-quickchart {\n",
              "      --bg-color: #3B4455;\n",
              "      --fill-color: #D2E3FC;\n",
              "      --hover-bg-color: #434B5C;\n",
              "      --hover-fill-color: #FFFFFF;\n",
              "      --disabled-bg-color: #3B4455;\n",
              "      --disabled-fill-color: #666;\n",
              "  }\n",
              "\n",
              "  .colab-df-quickchart {\n",
              "    background-color: var(--bg-color);\n",
              "    border: none;\n",
              "    border-radius: 50%;\n",
              "    cursor: pointer;\n",
              "    display: none;\n",
              "    fill: var(--fill-color);\n",
              "    height: 32px;\n",
              "    padding: 0;\n",
              "    width: 32px;\n",
              "  }\n",
              "\n",
              "  .colab-df-quickchart:hover {\n",
              "    background-color: var(--hover-bg-color);\n",
              "    box-shadow: 0 1px 2px rgba(60, 64, 67, 0.3), 0 1px 3px 1px rgba(60, 64, 67, 0.15);\n",
              "    fill: var(--button-hover-fill-color);\n",
              "  }\n",
              "\n",
              "  .colab-df-quickchart-complete:disabled,\n",
              "  .colab-df-quickchart-complete:disabled:hover {\n",
              "    background-color: var(--disabled-bg-color);\n",
              "    fill: var(--disabled-fill-color);\n",
              "    box-shadow: none;\n",
              "  }\n",
              "\n",
              "  .colab-df-spinner {\n",
              "    border: 2px solid var(--fill-color);\n",
              "    border-color: transparent;\n",
              "    border-bottom-color: var(--fill-color);\n",
              "    animation:\n",
              "      spin 1s steps(1) infinite;\n",
              "  }\n",
              "\n",
              "  @keyframes spin {\n",
              "    0% {\n",
              "      border-color: transparent;\n",
              "      border-bottom-color: var(--fill-color);\n",
              "      border-left-color: var(--fill-color);\n",
              "    }\n",
              "    20% {\n",
              "      border-color: transparent;\n",
              "      border-left-color: var(--fill-color);\n",
              "      border-top-color: var(--fill-color);\n",
              "    }\n",
              "    30% {\n",
              "      border-color: transparent;\n",
              "      border-left-color: var(--fill-color);\n",
              "      border-top-color: var(--fill-color);\n",
              "      border-right-color: var(--fill-color);\n",
              "    }\n",
              "    40% {\n",
              "      border-color: transparent;\n",
              "      border-right-color: var(--fill-color);\n",
              "      border-top-color: var(--fill-color);\n",
              "    }\n",
              "    60% {\n",
              "      border-color: transparent;\n",
              "      border-right-color: var(--fill-color);\n",
              "    }\n",
              "    80% {\n",
              "      border-color: transparent;\n",
              "      border-right-color: var(--fill-color);\n",
              "      border-bottom-color: var(--fill-color);\n",
              "    }\n",
              "    90% {\n",
              "      border-color: transparent;\n",
              "      border-bottom-color: var(--fill-color);\n",
              "    }\n",
              "  }\n",
              "</style>\n",
              "\n",
              "  <script>\n",
              "    async function quickchart(key) {\n",
              "      const quickchartButtonEl =\n",
              "        document.querySelector('#' + key + ' button');\n",
              "      quickchartButtonEl.disabled = true;  // To prevent multiple clicks.\n",
              "      quickchartButtonEl.classList.add('colab-df-spinner');\n",
              "      try {\n",
              "        const charts = await google.colab.kernel.invokeFunction(\n",
              "            'suggestCharts', [key], {});\n",
              "      } catch (error) {\n",
              "        console.error('Error during call to suggestCharts:', error);\n",
              "      }\n",
              "      quickchartButtonEl.classList.remove('colab-df-spinner');\n",
              "      quickchartButtonEl.classList.add('colab-df-quickchart-complete');\n",
              "    }\n",
              "    (() => {\n",
              "      let quickchartButtonEl =\n",
              "        document.querySelector('#df-a5768f6e-68d9-47a6-88bf-ef42fe767121 button');\n",
              "      quickchartButtonEl.style.display =\n",
              "        google.colab.kernel.accessAllowed ? 'block' : 'none';\n",
              "    })();\n",
              "  </script>\n",
              "</div>\n",
              "\n",
              "  <div id=\"id_69666c3e-7fea-40b1-ae82-905815a03cf6\">\n",
              "    <style>\n",
              "      .colab-df-generate {\n",
              "        background-color: #E8F0FE;\n",
              "        border: none;\n",
              "        border-radius: 50%;\n",
              "        cursor: pointer;\n",
              "        display: none;\n",
              "        fill: #1967D2;\n",
              "        height: 32px;\n",
              "        padding: 0 0 0 0;\n",
              "        width: 32px;\n",
              "      }\n",
              "\n",
              "      .colab-df-generate:hover {\n",
              "        background-color: #E2EBFA;\n",
              "        box-shadow: 0px 1px 2px rgba(60, 64, 67, 0.3), 0px 1px 3px 1px rgba(60, 64, 67, 0.15);\n",
              "        fill: #174EA6;\n",
              "      }\n",
              "\n",
              "      [theme=dark] .colab-df-generate {\n",
              "        background-color: #3B4455;\n",
              "        fill: #D2E3FC;\n",
              "      }\n",
              "\n",
              "      [theme=dark] .colab-df-generate:hover {\n",
              "        background-color: #434B5C;\n",
              "        box-shadow: 0px 1px 3px 1px rgba(0, 0, 0, 0.15);\n",
              "        filter: drop-shadow(0px 1px 2px rgba(0, 0, 0, 0.3));\n",
              "        fill: #FFFFFF;\n",
              "      }\n",
              "    </style>\n",
              "    <button class=\"colab-df-generate\" onclick=\"generateWithVariable('df')\"\n",
              "            title=\"Generate code using this dataframe.\"\n",
              "            style=\"display:none;\">\n",
              "\n",
              "  <svg xmlns=\"http://www.w3.org/2000/svg\" height=\"24px\"viewBox=\"0 0 24 24\"\n",
              "       width=\"24px\">\n",
              "    <path d=\"M7,19H8.4L18.45,9,17,7.55,7,17.6ZM5,21V16.75L18.45,3.32a2,2,0,0,1,2.83,0l1.4,1.43a1.91,1.91,0,0,1,.58,1.4,1.91,1.91,0,0,1-.58,1.4L9.25,21ZM18.45,9,17,7.55Zm-12,3A5.31,5.31,0,0,0,4.9,8.1,5.31,5.31,0,0,0,1,6.5,5.31,5.31,0,0,0,4.9,4.9,5.31,5.31,0,0,0,6.5,1,5.31,5.31,0,0,0,8.1,4.9,5.31,5.31,0,0,0,12,6.5,5.46,5.46,0,0,0,6.5,12Z\"/>\n",
              "  </svg>\n",
              "    </button>\n",
              "    <script>\n",
              "      (() => {\n",
              "      const buttonEl =\n",
              "        document.querySelector('#id_69666c3e-7fea-40b1-ae82-905815a03cf6 button.colab-df-generate');\n",
              "      buttonEl.style.display =\n",
              "        google.colab.kernel.accessAllowed ? 'block' : 'none';\n",
              "\n",
              "      buttonEl.onclick = () => {\n",
              "        google.colab.notebook.generateWithVariable('df');\n",
              "      }\n",
              "      })();\n",
              "    </script>\n",
              "  </div>\n",
              "\n",
              "    </div>\n",
              "  </div>\n"
            ],
            "application/vnd.google.colaboratory.intrinsic+json": {
              "type": "dataframe",
              "variable_name": "df",
              "summary": "{\n  \"name\": \"df\",\n  \"rows\": 8,\n  \"fields\": [\n    {\n      \"column\": \"Var_x\",\n      \"properties\": {\n        \"dtype\": \"number\",\n        \"std\": 1,\n        \"min\": 1,\n        \"max\": 6,\n        \"num_unique_values\": 6,\n        \"samples\": [\n          1,\n          2,\n          6\n        ],\n        \"semantic_type\": \"\",\n        \"description\": \"\"\n      }\n    },\n    {\n      \"column\": \"Var_y\",\n      \"properties\": {\n        \"dtype\": \"number\",\n        \"std\": 1,\n        \"min\": 2,\n        \"max\": 7,\n        \"num_unique_values\": 6,\n        \"samples\": [\n          2,\n          3,\n          7\n        ],\n        \"semantic_type\": \"\",\n        \"description\": \"\"\n      }\n    }\n  ]\n}"
            }
          },
          "metadata": {},
          "execution_count": 1
        }
      ],
      "source": [
        "import pandas as pd\n",
        "import numpy as np\n",
        "\n",
        "# Create a dataset\n",
        "value_x = [1,2,2,3,4,4,5,6]\n",
        "value_y = [2,3,4,4,4,6,5,7]\n",
        "# value to be calculated x*y\n",
        "# value to be calculated x^2\n",
        "\n",
        "# Let´s use a dictionary ({key:value})\n",
        "# with the format {\"str\":list}\n",
        "\n",
        "datos = {\"Var_x\":value_x,\n",
        "        \"Var_y\":value_y}\n",
        "\n",
        "print (datos)\n",
        "\n",
        "#Turn a dictionary into a dataframe\n",
        "\n",
        "df = pd.DataFrame(datos)\n",
        "\n",
        "# Another way to write the code without data_dict\n",
        "# df = pd.Dataframe({\n",
        "#     'Var_x':value_x,\n",
        "#     'Var_y':value_y\n",
        "# })\n",
        "\n",
        "n = len(datos['Var_x'])\n",
        "\n",
        "print (df)\n",
        "df"
      ]
    },
    {
      "cell_type": "markdown",
      "source": [
        "Una vez creado las columnas de las variables X y la variable y, se agrega las columnas x*y y la columna x^2"
      ],
      "metadata": {
        "id": "AzykAqpcaeMN"
      }
    },
    {
      "cell_type": "code",
      "source": [
        "# Agregar columna de multiplicacion de variables: x*y\n",
        "df[\"x*y\"] = df['Var_x'] * df['Var_y']\n",
        "\n",
        "# Agregar columna de \"x\" al cuadrado x**2\n",
        "\n",
        "df[\"x^2\"] = df[\"Var_x\"]**2\n",
        "\n",
        "print (df)"
      ],
      "metadata": {
        "colab": {
          "base_uri": "https://localhost:8080/"
        },
        "id": "WDbEgyx8atF7",
        "outputId": "da42e870-98ba-4d18-bbc0-89d134f2a864"
      },
      "execution_count": null,
      "outputs": [
        {
          "output_type": "stream",
          "name": "stdout",
          "text": [
            "   Var_x  Var_y  x*y  x^2\n",
            "0      1      2    2    1\n",
            "1      2      3    6    4\n",
            "2      2      4    8    4\n",
            "3      3      4   12    9\n",
            "4      4      4   16   16\n",
            "5      4      6   24   16\n",
            "6      5      5   25   25\n",
            "7      6      7   42   36\n"
          ]
        }
      ]
    },
    {
      "cell_type": "markdown",
      "source": [
        "Obtener las sumatorias de las columnas"
      ],
      "metadata": {
        "id": "L_BCijpyo-mW"
      }
    },
    {
      "cell_type": "code",
      "source": [
        "df[\"x*y\"] = df['Var_x'] * df['Var_y']\n",
        "df[\"x^2\"] = df[\"Var_x\"]**2\n",
        "\n",
        "sum_x = df['Var_x'].sum()\n",
        "sum_y = df['Var_y'].sum()\n",
        "\n",
        "sum_xy = df['x*y'].sum()\n",
        "sum_xx = df['x^2'].sum()\n",
        "\n",
        "print(f\"Suma de 'Var_x': {sum_x}\")\n",
        "print(f\"Suma de 'Var_y': {sum_y}\")\n",
        "print(f\"Suma de 'x*y': {sum_xy}\")\n",
        "print(f\"Suma de 'x^2': {sum_xx}\")\n"
      ],
      "metadata": {
        "colab": {
          "base_uri": "https://localhost:8080/"
        },
        "id": "rWWyAx2Boz0u",
        "outputId": "0c5c80c5-bf63-469d-b38c-19e428cf7c94"
      },
      "execution_count": null,
      "outputs": [
        {
          "output_type": "stream",
          "name": "stdout",
          "text": [
            "Suma de 'Var_x': 27\n",
            "Suma de 'Var_y': 35\n",
            "Suma de 'x*y': 135\n",
            "Suma de 'x^2': 111\n"
          ]
        }
      ]
    },
    {
      "cell_type": "markdown",
      "source": [
        "Obtener la media para los datos de las columnas de la variable \"x\" y la variable \"y\""
      ],
      "metadata": {
        "id": "V-Pmeyk4Oiti"
      }
    },
    {
      "cell_type": "code",
      "source": [
        "# Recuperar DataFrame con los datos\n",
        "df = pd.DataFrame({\n",
        "    'Var_x': value_x,\n",
        "    'Var_y': value_y\n",
        "})\n",
        "\n",
        "# Calcular la media de las columnas \"x\" e \"y\"\n",
        "media_x = df['Var_x'].mean()\n",
        "media_y = df['Var_y'].mean()\n",
        "\n",
        "print(f\"Media de 'Var_x': {media_x}\")\n",
        "print(f\"Media de 'Var_y': {media_y}\")"
      ],
      "metadata": {
        "colab": {
          "base_uri": "https://localhost:8080/"
        },
        "id": "kGgvNL8WgfyY",
        "outputId": "38288a2d-8e8f-4bf6-dc19-d06ab2e7298b"
      },
      "execution_count": null,
      "outputs": [
        {
          "output_type": "stream",
          "name": "stdout",
          "text": [
            "Media de 'Var_x': 3.375\n",
            "Media de 'Var_y': 4.375\n"
          ]
        }
      ]
    },
    {
      "cell_type": "markdown",
      "source": [
        "Obtener numerador y denominador para calcular la pendiente (m) y el intercepto"
      ],
      "metadata": {
        "id": "1Sb-_4tpqgZZ"
      }
    },
    {
      "cell_type": "code",
      "source": [
        "num = n * sum_xy - sum_x*sum_y\n",
        "den = n * sum_xx - (sum_x)**2\n",
        "\n",
        "# calculo de la pendiente (m)\n",
        "m = num / den\n",
        "\n",
        "# calculo del intercepto (b)\n",
        "# b = media_y - m(media_x)\n",
        "b = media_y - m*media_x\n",
        "\n",
        "print(f\"Pendiente(m): {m}\")\n",
        "print(f\"Intercepto (b): {b}\")\n",
        "\n"
      ],
      "metadata": {
        "colab": {
          "base_uri": "https://localhost:8080/"
        },
        "id": "1KDU0H0dqpHO",
        "outputId": "cb63889e-c5dd-4d48-dc6e-d2c52f38f78b"
      },
      "execution_count": null,
      "outputs": [
        {
          "output_type": "stream",
          "name": "stdout",
          "text": [
            "Pendiente(m): 0.8490566037735849\n",
            "Intercepto (b): 1.5094339622641506\n"
          ]
        }
      ]
    },
    {
      "cell_type": "markdown",
      "source": [
        "Agregar sumatoria de las columnas"
      ],
      "metadata": {
        "id": "F8jmNxAMN4MR"
      }
    },
    {
      "cell_type": "code",
      "source": [
        "# Recuperar DataFrame con los datos\n",
        "df = pd.DataFrame({\n",
        "    'Var_x': value_x,\n",
        "    'Var_y': value_y\n",
        "})\n",
        "\n",
        "df[\"x*y\"] = df['Var_x'] * df['Var_y']\n",
        "\n",
        "df[\"x^2\"] = df[\"Var_x\"]**2\n",
        "\n",
        "df.loc['Sumatoria'] = df.sum()\n",
        "print(df)"
      ],
      "metadata": {
        "colab": {
          "base_uri": "https://localhost:8080/"
        },
        "id": "pOjSXemeNqWQ",
        "outputId": "ba8b41d0-9aad-4772-e79e-17808f21a2e9"
      },
      "execution_count": null,
      "outputs": [
        {
          "output_type": "stream",
          "name": "stdout",
          "text": [
            "           Var_x  Var_y  x*y  x^2\n",
            "0              1      2    2    1\n",
            "1              2      3    6    4\n",
            "2              2      4    8    4\n",
            "3              3      4   12    9\n",
            "4              4      4   16   16\n",
            "5              4      6   24   16\n",
            "6              5      5   25   25\n",
            "7              6      7   42   36\n",
            "Sumatoria     27     35  135  111\n"
          ]
        }
      ]
    },
    {
      "cell_type": "markdown",
      "source": [
        "Otra forma de agregar la fila de sumatoria a las columnas"
      ],
      "metadata": {
        "id": "PEUbJ1324-nQ"
      }
    },
    {
      "cell_type": "code",
      "source": [
        "# Recuperar DataFrame con los datos\n",
        "df = pd.DataFrame({\n",
        "    'Var_x': value_x,\n",
        "    'Var_y': value_y\n",
        "})\n",
        "\n",
        "df[\"x*y\"] = df['Var_x'] * df['Var_y']\n",
        "\n",
        "df[\"x^2\"] = df[\"Var_x\"]**2\n",
        "\n",
        "df.loc[len(df)] = [df['Var_x'].sum(),df['Var_y'].sum(),df['x*y'].sum(),df['x^2'].sum()]\n",
        "\n",
        "print(df)"
      ],
      "metadata": {
        "colab": {
          "base_uri": "https://localhost:8080/"
        },
        "id": "RtxObxUO15to",
        "outputId": "6e569069-572a-4f42-f9c6-ba95a9e3eb65"
      },
      "execution_count": null,
      "outputs": [
        {
          "output_type": "stream",
          "name": "stdout",
          "text": [
            "   Var_x  Var_y  x*y  x^2\n",
            "0      1      2    2    1\n",
            "1      2      3    6    4\n",
            "2      2      4    8    4\n",
            "3      3      4   12    9\n",
            "4      4      4   16   16\n",
            "5      4      6   24   16\n",
            "6      5      5   25   25\n",
            "7      6      7   42   36\n",
            "8     27     35  135  111\n"
          ]
        }
      ]
    },
    {
      "cell_type": "markdown",
      "source": [
        "Calcular pendiente e intercepto con los datos de las sumatorias"
      ],
      "metadata": {
        "id": "DKALlPva5GBE"
      }
    },
    {
      "cell_type": "code",
      "source": [
        "df = pd.DataFrame({\n",
        "    'Var_x': value_x,\n",
        "    'Var_y': value_y\n",
        "})\n",
        "\n",
        "df[\"x*y\"] = df['Var_x'] * df['Var_y']\n",
        "\n",
        "df[\"x^2\"] = df[\"Var_x\"]**2\n",
        "\n",
        "\n",
        "num = (n * df['x*y'].sum()) - (df['Var_x'].sum() * df['Var_y'].sum())\n",
        "den = (n * df['x^2'].sum()) - (df['Var_x'].sum()**2)\n",
        "\n",
        "# calculo de la pendiente (m)\n",
        "# m = num / den\n",
        "m = ((n * df['x*y'].sum()) - (df['Var_x'].sum() * df['Var_y'].sum()))/((n * df['x^2'].sum()) - (df['Var_x'].sum()**2))\n",
        "\n",
        "# calculo del intercepto (b)\n",
        "# b = media_y - m(media_x)\n",
        "b = media_y - m*media_x\n",
        "\n",
        "print(f\"Media de 'Var_x': {media_x}\")\n",
        "print(f\"Media de 'Var_y': {media_y}\")\n",
        "\n",
        "print(f\"Numerador: {num}\")\n",
        "print(f\"Denominador: {den}\")\n",
        "\n",
        "print(f\"Pendiente(m): {m}\")\n",
        "print(f\"Intercepto (b): {b}\")\n",
        "\n"
      ],
      "metadata": {
        "colab": {
          "base_uri": "https://localhost:8080/"
        },
        "id": "WBMnwIbY_Ach",
        "outputId": "4bdbb803-28be-441a-bbb3-4fd57670a295"
      },
      "execution_count": null,
      "outputs": [
        {
          "output_type": "stream",
          "name": "stdout",
          "text": [
            "Media de 'Var_x': 3.375\n",
            "Media de 'Var_y': 4.375\n",
            "Numerador: 135\n",
            "Denominador: 159\n",
            "Pendiente(m): 0.8490566037735849\n",
            "Intercepto (b): 1.5094339622641506\n"
          ]
        }
      ]
    },
    {
      "cell_type": "markdown",
      "source": [
        "Calcular la diferencia desde la media para las variables \"x\" e \"y\""
      ],
      "metadata": {
        "id": "JaYeGTUtzlmN"
      }
    },
    {
      "cell_type": "code",
      "source": [
        "# Calcular la diferencia entre cada valor de x y su media\n",
        "df['Var_x_diff'] = df['Var_x'] - media_x\n",
        "\n",
        "# Calcular la diferencia entre cada valor de y y su media\n",
        "df['Var_y_diff'] = df['Var_y'] - media_y\n",
        "\n",
        "print(\"Diferencia de cada valor de x con la media de x:\")\n",
        "print(df['Var_x_diff'])\n",
        "\n",
        "print(\"\\nDiferencia de cada valor de y con la media de y:\")\n",
        "print(df['Var_y_diff'])"
      ],
      "metadata": {
        "colab": {
          "base_uri": "https://localhost:8080/"
        },
        "id": "p9CRGMPFtrEc",
        "outputId": "ed86aaa6-3c3e-49c3-e8b5-6fd9429bb3b3"
      },
      "execution_count": null,
      "outputs": [
        {
          "output_type": "stream",
          "name": "stdout",
          "text": [
            "Diferencia de cada valor de x con la media de x:\n",
            "0   -2.375\n",
            "1   -1.375\n",
            "2   -1.375\n",
            "3   -0.375\n",
            "4    0.625\n",
            "5    0.625\n",
            "6    1.625\n",
            "7    2.625\n",
            "Name: Var_x_diff, dtype: float64\n",
            "\n",
            "Diferencia de cada valor de y con la media de y:\n",
            "0   -2.375\n",
            "1   -1.375\n",
            "2   -0.375\n",
            "3   -0.375\n",
            "4   -0.375\n",
            "5    1.625\n",
            "6    0.625\n",
            "7    2.625\n",
            "Name: Var_y_diff, dtype: float64\n"
          ]
        }
      ]
    },
    {
      "cell_type": "markdown",
      "source": [
        "Calculo de slope (beta1) o Pendiente, usando la sumatoria de las diferencias"
      ],
      "metadata": {
        "id": "_MBpjbcQpkqD"
      }
    },
    {
      "cell_type": "code",
      "source": [
        "# Calcular el coeficiente de pendiente (beta1)\n",
        "beta1 = (df['Var_x_diff'] * df['Var_y_diff']).sum() / (df['Var_x_diff'] ** 2).sum()\n",
        "\n",
        "print(\"El coeficiente de pendiente (beta1) es:\", beta1)"
      ],
      "metadata": {
        "colab": {
          "base_uri": "https://localhost:8080/"
        },
        "id": "Ehi1NjGQ1gr9",
        "outputId": "60877056-4dbd-4d25-c80b-54d6c5f9459d"
      },
      "execution_count": null,
      "outputs": [
        {
          "output_type": "stream",
          "name": "stdout",
          "text": [
            "El coeficiente de pendiente (beta1) es: 0.8490566037735849\n"
          ]
        }
      ]
    },
    {
      "cell_type": "markdown",
      "source": [
        "Calcular el intercepto"
      ],
      "metadata": {
        "id": "WoewL3t81aOt"
      }
    },
    {
      "cell_type": "code",
      "source": [
        "# Calcular el intercepto usando la formula\n",
        "beta0 = media_y - beta1 * media_x\n",
        "\n",
        "print(\"El intercepto (beta0) es\",beta0)"
      ],
      "metadata": {
        "colab": {
          "base_uri": "https://localhost:8080/"
        },
        "id": "RSVInKoo3RlP",
        "outputId": "039ef98b-7038-4fb0-83a2-44f938bff92b"
      },
      "execution_count": null,
      "outputs": [
        {
          "output_type": "stream",
          "name": "stdout",
          "text": [
            "El intercepto (beta0) es 1.5094339622641506\n"
          ]
        }
      ]
    },
    {
      "cell_type": "markdown",
      "source": [
        "Grafica de puntos, pendiente e interceptos"
      ],
      "metadata": {
        "id": "_Wx4UCcx4i5q"
      }
    },
    {
      "cell_type": "code",
      "source": [
        "import matplotlib.pyplot as plt\n",
        "\n",
        "#Plot the datapoints\n",
        "plt.scatter(value_x, value_y, label =  'Data points')\n",
        "\n",
        "# Convertir las listas value_x y value_y en arreglos numpy\n",
        "value_x = np.array(value_x)\n",
        "value_y = np.array(value_y)\n",
        "\n",
        "# Plot the linear fit\n",
        "plt.plot(value_x, beta0 + beta1 * value_x, color='red', label='Linear fit')\n",
        "\n",
        "#Add labels and legends\n",
        "plt.xlabel = ('x')\n",
        "plt.ylabel = ('y')\n",
        "plt.legend()\n",
        "\n",
        "plt.show()"
      ],
      "metadata": {
        "id": "gKCGdeRM4sBq",
        "colab": {
          "base_uri": "https://localhost:8080/",
          "height": 430
        },
        "outputId": "7520fb8b-03e3-4b38-baee-975664874486"
      },
      "execution_count": null,
      "outputs": [
        {
          "output_type": "display_data",
          "data": {
            "text/plain": [
              "<Figure size 640x480 with 1 Axes>"
            ],
            "image/png": "[encoded data removed]"
          },
          "metadata": {}
        }
      ]
    }
  ]
}